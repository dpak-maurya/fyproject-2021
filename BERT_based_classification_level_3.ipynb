{
  "nbformat": 4,
  "nbformat_minor": 0,
  "metadata": {
    "colab": {
      "name": "Copy of BERT_based_classification_level_3.ipynb",
      "provenance": [],
      "collapsed_sections": []
    },
    "kernelspec": {
      "name": "python3",
      "display_name": "Python 3"
    },
    "language_info": {
      "name": "python"
    },
    "accelerator": "GPU",
    "widgets": {
      "application/vnd.jupyter.widget-state+json": {
        "98c0b0da7f9c471086adf374ad0a1e6e": {
          "model_module": "@jupyter-widgets/controls",
          "model_name": "HBoxModel",
          "state": {
            "_view_name": "HBoxView",
            "_dom_classes": [],
            "_model_name": "HBoxModel",
            "_view_module": "@jupyter-widgets/controls",
            "_model_module_version": "1.5.0",
            "_view_count": null,
            "_view_module_version": "1.5.0",
            "box_style": "",
            "layout": "IPY_MODEL_20af534aca324ff39f7416e37985d3ac",
            "_model_module": "@jupyter-widgets/controls",
            "children": [
              "IPY_MODEL_f282ec1c80da412595c3e59ce1140b94",
              "IPY_MODEL_84f1092047654dcdb02f80b656582af1"
            ]
          }
        },
        "20af534aca324ff39f7416e37985d3ac": {
          "model_module": "@jupyter-widgets/base",
          "model_name": "LayoutModel",
          "state": {
            "_view_name": "LayoutView",
            "grid_template_rows": null,
            "right": null,
            "justify_content": null,
            "_view_module": "@jupyter-widgets/base",
            "overflow": null,
            "_model_module_version": "1.2.0",
            "_view_count": null,
            "flex_flow": null,
            "width": null,
            "min_width": null,
            "border": null,
            "align_items": null,
            "bottom": null,
            "_model_module": "@jupyter-widgets/base",
            "top": null,
            "grid_column": null,
            "overflow_y": null,
            "overflow_x": null,
            "grid_auto_flow": null,
            "grid_area": null,
            "grid_template_columns": null,
            "flex": null,
            "_model_name": "LayoutModel",
            "justify_items": null,
            "grid_row": null,
            "max_height": null,
            "align_content": null,
            "visibility": null,
            "align_self": null,
            "height": null,
            "min_height": null,
            "padding": null,
            "grid_auto_rows": null,
            "grid_gap": null,
            "max_width": null,
            "order": null,
            "_view_module_version": "1.2.0",
            "grid_template_areas": null,
            "object_position": null,
            "object_fit": null,
            "grid_auto_columns": null,
            "margin": null,
            "display": null,
            "left": null
          }
        },
        "f282ec1c80da412595c3e59ce1140b94": {
          "model_module": "@jupyter-widgets/controls",
          "model_name": "FloatProgressModel",
          "state": {
            "_view_name": "ProgressView",
            "style": "IPY_MODEL_a25904a2473b41009e7683bcf6627047",
            "_dom_classes": [],
            "description": "Downloading: 100%",
            "_model_name": "FloatProgressModel",
            "bar_style": "success",
            "max": 570,
            "_view_module": "@jupyter-widgets/controls",
            "_model_module_version": "1.5.0",
            "value": 570,
            "_view_count": null,
            "_view_module_version": "1.5.0",
            "orientation": "horizontal",
            "min": 0,
            "description_tooltip": null,
            "_model_module": "@jupyter-widgets/controls",
            "layout": "IPY_MODEL_7d1377acba2748aab772c65a2fe64d1c"
          }
        },
        "84f1092047654dcdb02f80b656582af1": {
          "model_module": "@jupyter-widgets/controls",
          "model_name": "HTMLModel",
          "state": {
            "_view_name": "HTMLView",
            "style": "IPY_MODEL_10375b5cdb5142e0a623ed2563a633dc",
            "_dom_classes": [],
            "description": "",
            "_model_name": "HTMLModel",
            "placeholder": "​",
            "_view_module": "@jupyter-widgets/controls",
            "_model_module_version": "1.5.0",
            "value": " 570/570 [00:16&lt;00:00, 34.3B/s]",
            "_view_count": null,
            "_view_module_version": "1.5.0",
            "description_tooltip": null,
            "_model_module": "@jupyter-widgets/controls",
            "layout": "IPY_MODEL_a5d47fb705e04bcdbce361c5ee93e08e"
          }
        },
        "a25904a2473b41009e7683bcf6627047": {
          "model_module": "@jupyter-widgets/controls",
          "model_name": "ProgressStyleModel",
          "state": {
            "_view_name": "StyleView",
            "_model_name": "ProgressStyleModel",
            "description_width": "initial",
            "_view_module": "@jupyter-widgets/base",
            "_model_module_version": "1.5.0",
            "_view_count": null,
            "_view_module_version": "1.2.0",
            "bar_color": null,
            "_model_module": "@jupyter-widgets/controls"
          }
        },
        "7d1377acba2748aab772c65a2fe64d1c": {
          "model_module": "@jupyter-widgets/base",
          "model_name": "LayoutModel",
          "state": {
            "_view_name": "LayoutView",
            "grid_template_rows": null,
            "right": null,
            "justify_content": null,
            "_view_module": "@jupyter-widgets/base",
            "overflow": null,
            "_model_module_version": "1.2.0",
            "_view_count": null,
            "flex_flow": null,
            "width": null,
            "min_width": null,
            "border": null,
            "align_items": null,
            "bottom": null,
            "_model_module": "@jupyter-widgets/base",
            "top": null,
            "grid_column": null,
            "overflow_y": null,
            "overflow_x": null,
            "grid_auto_flow": null,
            "grid_area": null,
            "grid_template_columns": null,
            "flex": null,
            "_model_name": "LayoutModel",
            "justify_items": null,
            "grid_row": null,
            "max_height": null,
            "align_content": null,
            "visibility": null,
            "align_self": null,
            "height": null,
            "min_height": null,
            "padding": null,
            "grid_auto_rows": null,
            "grid_gap": null,
            "max_width": null,
            "order": null,
            "_view_module_version": "1.2.0",
            "grid_template_areas": null,
            "object_position": null,
            "object_fit": null,
            "grid_auto_columns": null,
            "margin": null,
            "display": null,
            "left": null
          }
        },
        "10375b5cdb5142e0a623ed2563a633dc": {
          "model_module": "@jupyter-widgets/controls",
          "model_name": "DescriptionStyleModel",
          "state": {
            "_view_name": "StyleView",
            "_model_name": "DescriptionStyleModel",
            "description_width": "",
            "_view_module": "@jupyter-widgets/base",
            "_model_module_version": "1.5.0",
            "_view_count": null,
            "_view_module_version": "1.2.0",
            "_model_module": "@jupyter-widgets/controls"
          }
        },
        "a5d47fb705e04bcdbce361c5ee93e08e": {
          "model_module": "@jupyter-widgets/base",
          "model_name": "LayoutModel",
          "state": {
            "_view_name": "LayoutView",
            "grid_template_rows": null,
            "right": null,
            "justify_content": null,
            "_view_module": "@jupyter-widgets/base",
            "overflow": null,
            "_model_module_version": "1.2.0",
            "_view_count": null,
            "flex_flow": null,
            "width": null,
            "min_width": null,
            "border": null,
            "align_items": null,
            "bottom": null,
            "_model_module": "@jupyter-widgets/base",
            "top": null,
            "grid_column": null,
            "overflow_y": null,
            "overflow_x": null,
            "grid_auto_flow": null,
            "grid_area": null,
            "grid_template_columns": null,
            "flex": null,
            "_model_name": "LayoutModel",
            "justify_items": null,
            "grid_row": null,
            "max_height": null,
            "align_content": null,
            "visibility": null,
            "align_self": null,
            "height": null,
            "min_height": null,
            "padding": null,
            "grid_auto_rows": null,
            "grid_gap": null,
            "max_width": null,
            "order": null,
            "_view_module_version": "1.2.0",
            "grid_template_areas": null,
            "object_position": null,
            "object_fit": null,
            "grid_auto_columns": null,
            "margin": null,
            "display": null,
            "left": null
          }
        },
        "456c406b39b2411bb5821440a8954e59": {
          "model_module": "@jupyter-widgets/controls",
          "model_name": "HBoxModel",
          "state": {
            "_view_name": "HBoxView",
            "_dom_classes": [],
            "_model_name": "HBoxModel",
            "_view_module": "@jupyter-widgets/controls",
            "_model_module_version": "1.5.0",
            "_view_count": null,
            "_view_module_version": "1.5.0",
            "box_style": "",
            "layout": "IPY_MODEL_5508b069c0914666be1c675b6caae436",
            "_model_module": "@jupyter-widgets/controls",
            "children": [
              "IPY_MODEL_b012af4b685247e2af1bf047d365d5a4",
              "IPY_MODEL_09b538d5630b4000a7a9265791d9e538"
            ]
          }
        },
        "5508b069c0914666be1c675b6caae436": {
          "model_module": "@jupyter-widgets/base",
          "model_name": "LayoutModel",
          "state": {
            "_view_name": "LayoutView",
            "grid_template_rows": null,
            "right": null,
            "justify_content": null,
            "_view_module": "@jupyter-widgets/base",
            "overflow": null,
            "_model_module_version": "1.2.0",
            "_view_count": null,
            "flex_flow": null,
            "width": null,
            "min_width": null,
            "border": null,
            "align_items": null,
            "bottom": null,
            "_model_module": "@jupyter-widgets/base",
            "top": null,
            "grid_column": null,
            "overflow_y": null,
            "overflow_x": null,
            "grid_auto_flow": null,
            "grid_area": null,
            "grid_template_columns": null,
            "flex": null,
            "_model_name": "LayoutModel",
            "justify_items": null,
            "grid_row": null,
            "max_height": null,
            "align_content": null,
            "visibility": null,
            "align_self": null,
            "height": null,
            "min_height": null,
            "padding": null,
            "grid_auto_rows": null,
            "grid_gap": null,
            "max_width": null,
            "order": null,
            "_view_module_version": "1.2.0",
            "grid_template_areas": null,
            "object_position": null,
            "object_fit": null,
            "grid_auto_columns": null,
            "margin": null,
            "display": null,
            "left": null
          }
        },
        "b012af4b685247e2af1bf047d365d5a4": {
          "model_module": "@jupyter-widgets/controls",
          "model_name": "FloatProgressModel",
          "state": {
            "_view_name": "ProgressView",
            "style": "IPY_MODEL_aee502688d344e4fbbf58738f480c168",
            "_dom_classes": [],
            "description": "Downloading: 100%",
            "_model_name": "FloatProgressModel",
            "bar_style": "success",
            "max": 231508,
            "_view_module": "@jupyter-widgets/controls",
            "_model_module_version": "1.5.0",
            "value": 231508,
            "_view_count": null,
            "_view_module_version": "1.5.0",
            "orientation": "horizontal",
            "min": 0,
            "description_tooltip": null,
            "_model_module": "@jupyter-widgets/controls",
            "layout": "IPY_MODEL_01778ee7599445c8a3cd479fc6237f83"
          }
        },
        "09b538d5630b4000a7a9265791d9e538": {
          "model_module": "@jupyter-widgets/controls",
          "model_name": "HTMLModel",
          "state": {
            "_view_name": "HTMLView",
            "style": "IPY_MODEL_2cd73c97fe514e2281986f9fb9c5fc0c",
            "_dom_classes": [],
            "description": "",
            "_model_name": "HTMLModel",
            "placeholder": "​",
            "_view_module": "@jupyter-widgets/controls",
            "_model_module_version": "1.5.0",
            "value": " 232k/232k [00:00&lt;00:00, 1.99MB/s]",
            "_view_count": null,
            "_view_module_version": "1.5.0",
            "description_tooltip": null,
            "_model_module": "@jupyter-widgets/controls",
            "layout": "IPY_MODEL_edb377944b5a4019bc393f81b1119705"
          }
        },
        "aee502688d344e4fbbf58738f480c168": {
          "model_module": "@jupyter-widgets/controls",
          "model_name": "ProgressStyleModel",
          "state": {
            "_view_name": "StyleView",
            "_model_name": "ProgressStyleModel",
            "description_width": "initial",
            "_view_module": "@jupyter-widgets/base",
            "_model_module_version": "1.5.0",
            "_view_count": null,
            "_view_module_version": "1.2.0",
            "bar_color": null,
            "_model_module": "@jupyter-widgets/controls"
          }
        },
        "01778ee7599445c8a3cd479fc6237f83": {
          "model_module": "@jupyter-widgets/base",
          "model_name": "LayoutModel",
          "state": {
            "_view_name": "LayoutView",
            "grid_template_rows": null,
            "right": null,
            "justify_content": null,
            "_view_module": "@jupyter-widgets/base",
            "overflow": null,
            "_model_module_version": "1.2.0",
            "_view_count": null,
            "flex_flow": null,
            "width": null,
            "min_width": null,
            "border": null,
            "align_items": null,
            "bottom": null,
            "_model_module": "@jupyter-widgets/base",
            "top": null,
            "grid_column": null,
            "overflow_y": null,
            "overflow_x": null,
            "grid_auto_flow": null,
            "grid_area": null,
            "grid_template_columns": null,
            "flex": null,
            "_model_name": "LayoutModel",
            "justify_items": null,
            "grid_row": null,
            "max_height": null,
            "align_content": null,
            "visibility": null,
            "align_self": null,
            "height": null,
            "min_height": null,
            "padding": null,
            "grid_auto_rows": null,
            "grid_gap": null,
            "max_width": null,
            "order": null,
            "_view_module_version": "1.2.0",
            "grid_template_areas": null,
            "object_position": null,
            "object_fit": null,
            "grid_auto_columns": null,
            "margin": null,
            "display": null,
            "left": null
          }
        },
        "2cd73c97fe514e2281986f9fb9c5fc0c": {
          "model_module": "@jupyter-widgets/controls",
          "model_name": "DescriptionStyleModel",
          "state": {
            "_view_name": "StyleView",
            "_model_name": "DescriptionStyleModel",
            "description_width": "",
            "_view_module": "@jupyter-widgets/base",
            "_model_module_version": "1.5.0",
            "_view_count": null,
            "_view_module_version": "1.2.0",
            "_model_module": "@jupyter-widgets/controls"
          }
        },
        "edb377944b5a4019bc393f81b1119705": {
          "model_module": "@jupyter-widgets/base",
          "model_name": "LayoutModel",
          "state": {
            "_view_name": "LayoutView",
            "grid_template_rows": null,
            "right": null,
            "justify_content": null,
            "_view_module": "@jupyter-widgets/base",
            "overflow": null,
            "_model_module_version": "1.2.0",
            "_view_count": null,
            "flex_flow": null,
            "width": null,
            "min_width": null,
            "border": null,
            "align_items": null,
            "bottom": null,
            "_model_module": "@jupyter-widgets/base",
            "top": null,
            "grid_column": null,
            "overflow_y": null,
            "overflow_x": null,
            "grid_auto_flow": null,
            "grid_area": null,
            "grid_template_columns": null,
            "flex": null,
            "_model_name": "LayoutModel",
            "justify_items": null,
            "grid_row": null,
            "max_height": null,
            "align_content": null,
            "visibility": null,
            "align_self": null,
            "height": null,
            "min_height": null,
            "padding": null,
            "grid_auto_rows": null,
            "grid_gap": null,
            "max_width": null,
            "order": null,
            "_view_module_version": "1.2.0",
            "grid_template_areas": null,
            "object_position": null,
            "object_fit": null,
            "grid_auto_columns": null,
            "margin": null,
            "display": null,
            "left": null
          }
        },
        "d84282ee488d4cb593126e95796e3162": {
          "model_module": "@jupyter-widgets/controls",
          "model_name": "HBoxModel",
          "state": {
            "_view_name": "HBoxView",
            "_dom_classes": [],
            "_model_name": "HBoxModel",
            "_view_module": "@jupyter-widgets/controls",
            "_model_module_version": "1.5.0",
            "_view_count": null,
            "_view_module_version": "1.5.0",
            "box_style": "",
            "layout": "IPY_MODEL_aabb2e44057646bb8e5b22f2c4b63c14",
            "_model_module": "@jupyter-widgets/controls",
            "children": [
              "IPY_MODEL_dc4ea17c203b4622a35a6457c76c9498",
              "IPY_MODEL_c5bd59d142384c80b6c5f6aa7c92326d"
            ]
          }
        },
        "aabb2e44057646bb8e5b22f2c4b63c14": {
          "model_module": "@jupyter-widgets/base",
          "model_name": "LayoutModel",
          "state": {
            "_view_name": "LayoutView",
            "grid_template_rows": null,
            "right": null,
            "justify_content": null,
            "_view_module": "@jupyter-widgets/base",
            "overflow": null,
            "_model_module_version": "1.2.0",
            "_view_count": null,
            "flex_flow": null,
            "width": null,
            "min_width": null,
            "border": null,
            "align_items": null,
            "bottom": null,
            "_model_module": "@jupyter-widgets/base",
            "top": null,
            "grid_column": null,
            "overflow_y": null,
            "overflow_x": null,
            "grid_auto_flow": null,
            "grid_area": null,
            "grid_template_columns": null,
            "flex": null,
            "_model_name": "LayoutModel",
            "justify_items": null,
            "grid_row": null,
            "max_height": null,
            "align_content": null,
            "visibility": null,
            "align_self": null,
            "height": null,
            "min_height": null,
            "padding": null,
            "grid_auto_rows": null,
            "grid_gap": null,
            "max_width": null,
            "order": null,
            "_view_module_version": "1.2.0",
            "grid_template_areas": null,
            "object_position": null,
            "object_fit": null,
            "grid_auto_columns": null,
            "margin": null,
            "display": null,
            "left": null
          }
        },
        "dc4ea17c203b4622a35a6457c76c9498": {
          "model_module": "@jupyter-widgets/controls",
          "model_name": "FloatProgressModel",
          "state": {
            "_view_name": "ProgressView",
            "style": "IPY_MODEL_2a671089db144eddac97649e05820f5f",
            "_dom_classes": [],
            "description": "Downloading: 100%",
            "_model_name": "FloatProgressModel",
            "bar_style": "success",
            "max": 466062,
            "_view_module": "@jupyter-widgets/controls",
            "_model_module_version": "1.5.0",
            "value": 466062,
            "_view_count": null,
            "_view_module_version": "1.5.0",
            "orientation": "horizontal",
            "min": 0,
            "description_tooltip": null,
            "_model_module": "@jupyter-widgets/controls",
            "layout": "IPY_MODEL_765e00c8d7d84487804918cd381165e6"
          }
        },
        "c5bd59d142384c80b6c5f6aa7c92326d": {
          "model_module": "@jupyter-widgets/controls",
          "model_name": "HTMLModel",
          "state": {
            "_view_name": "HTMLView",
            "style": "IPY_MODEL_92a8d0ec356d4596a11c83f1377cddd9",
            "_dom_classes": [],
            "description": "",
            "_model_name": "HTMLModel",
            "placeholder": "​",
            "_view_module": "@jupyter-widgets/controls",
            "_model_module_version": "1.5.0",
            "value": " 466k/466k [00:16&lt;00:00, 28.4kB/s]",
            "_view_count": null,
            "_view_module_version": "1.5.0",
            "description_tooltip": null,
            "_model_module": "@jupyter-widgets/controls",
            "layout": "IPY_MODEL_62987afbedeb46c09610e2385f8ea960"
          }
        },
        "2a671089db144eddac97649e05820f5f": {
          "model_module": "@jupyter-widgets/controls",
          "model_name": "ProgressStyleModel",
          "state": {
            "_view_name": "StyleView",
            "_model_name": "ProgressStyleModel",
            "description_width": "initial",
            "_view_module": "@jupyter-widgets/base",
            "_model_module_version": "1.5.0",
            "_view_count": null,
            "_view_module_version": "1.2.0",
            "bar_color": null,
            "_model_module": "@jupyter-widgets/controls"
          }
        },
        "765e00c8d7d84487804918cd381165e6": {
          "model_module": "@jupyter-widgets/base",
          "model_name": "LayoutModel",
          "state": {
            "_view_name": "LayoutView",
            "grid_template_rows": null,
            "right": null,
            "justify_content": null,
            "_view_module": "@jupyter-widgets/base",
            "overflow": null,
            "_model_module_version": "1.2.0",
            "_view_count": null,
            "flex_flow": null,
            "width": null,
            "min_width": null,
            "border": null,
            "align_items": null,
            "bottom": null,
            "_model_module": "@jupyter-widgets/base",
            "top": null,
            "grid_column": null,
            "overflow_y": null,
            "overflow_x": null,
            "grid_auto_flow": null,
            "grid_area": null,
            "grid_template_columns": null,
            "flex": null,
            "_model_name": "LayoutModel",
            "justify_items": null,
            "grid_row": null,
            "max_height": null,
            "align_content": null,
            "visibility": null,
            "align_self": null,
            "height": null,
            "min_height": null,
            "padding": null,
            "grid_auto_rows": null,
            "grid_gap": null,
            "max_width": null,
            "order": null,
            "_view_module_version": "1.2.0",
            "grid_template_areas": null,
            "object_position": null,
            "object_fit": null,
            "grid_auto_columns": null,
            "margin": null,
            "display": null,
            "left": null
          }
        },
        "92a8d0ec356d4596a11c83f1377cddd9": {
          "model_module": "@jupyter-widgets/controls",
          "model_name": "DescriptionStyleModel",
          "state": {
            "_view_name": "StyleView",
            "_model_name": "DescriptionStyleModel",
            "description_width": "",
            "_view_module": "@jupyter-widgets/base",
            "_model_module_version": "1.5.0",
            "_view_count": null,
            "_view_module_version": "1.2.0",
            "_model_module": "@jupyter-widgets/controls"
          }
        },
        "62987afbedeb46c09610e2385f8ea960": {
          "model_module": "@jupyter-widgets/base",
          "model_name": "LayoutModel",
          "state": {
            "_view_name": "LayoutView",
            "grid_template_rows": null,
            "right": null,
            "justify_content": null,
            "_view_module": "@jupyter-widgets/base",
            "overflow": null,
            "_model_module_version": "1.2.0",
            "_view_count": null,
            "flex_flow": null,
            "width": null,
            "min_width": null,
            "border": null,
            "align_items": null,
            "bottom": null,
            "_model_module": "@jupyter-widgets/base",
            "top": null,
            "grid_column": null,
            "overflow_y": null,
            "overflow_x": null,
            "grid_auto_flow": null,
            "grid_area": null,
            "grid_template_columns": null,
            "flex": null,
            "_model_name": "LayoutModel",
            "justify_items": null,
            "grid_row": null,
            "max_height": null,
            "align_content": null,
            "visibility": null,
            "align_self": null,
            "height": null,
            "min_height": null,
            "padding": null,
            "grid_auto_rows": null,
            "grid_gap": null,
            "max_width": null,
            "order": null,
            "_view_module_version": "1.2.0",
            "grid_template_areas": null,
            "object_position": null,
            "object_fit": null,
            "grid_auto_columns": null,
            "margin": null,
            "display": null,
            "left": null
          }
        },
        "618019ff11b249389a568a7e488d8550": {
          "model_module": "@jupyter-widgets/controls",
          "model_name": "HBoxModel",
          "state": {
            "_view_name": "HBoxView",
            "_dom_classes": [],
            "_model_name": "HBoxModel",
            "_view_module": "@jupyter-widgets/controls",
            "_model_module_version": "1.5.0",
            "_view_count": null,
            "_view_module_version": "1.5.0",
            "box_style": "",
            "layout": "IPY_MODEL_30833361b5904b37822f648a16d27cb0",
            "_model_module": "@jupyter-widgets/controls",
            "children": [
              "IPY_MODEL_6762be65cae84ac7933830f72abe1984",
              "IPY_MODEL_3dbc6322d6564fe4bde5d7d6d1224d1a"
            ]
          }
        },
        "30833361b5904b37822f648a16d27cb0": {
          "model_module": "@jupyter-widgets/base",
          "model_name": "LayoutModel",
          "state": {
            "_view_name": "LayoutView",
            "grid_template_rows": null,
            "right": null,
            "justify_content": null,
            "_view_module": "@jupyter-widgets/base",
            "overflow": null,
            "_model_module_version": "1.2.0",
            "_view_count": null,
            "flex_flow": null,
            "width": null,
            "min_width": null,
            "border": null,
            "align_items": null,
            "bottom": null,
            "_model_module": "@jupyter-widgets/base",
            "top": null,
            "grid_column": null,
            "overflow_y": null,
            "overflow_x": null,
            "grid_auto_flow": null,
            "grid_area": null,
            "grid_template_columns": null,
            "flex": null,
            "_model_name": "LayoutModel",
            "justify_items": null,
            "grid_row": null,
            "max_height": null,
            "align_content": null,
            "visibility": null,
            "align_self": null,
            "height": null,
            "min_height": null,
            "padding": null,
            "grid_auto_rows": null,
            "grid_gap": null,
            "max_width": null,
            "order": null,
            "_view_module_version": "1.2.0",
            "grid_template_areas": null,
            "object_position": null,
            "object_fit": null,
            "grid_auto_columns": null,
            "margin": null,
            "display": null,
            "left": null
          }
        },
        "6762be65cae84ac7933830f72abe1984": {
          "model_module": "@jupyter-widgets/controls",
          "model_name": "FloatProgressModel",
          "state": {
            "_view_name": "ProgressView",
            "style": "IPY_MODEL_8a8b13636aa24007b41b6d2e49381fe3",
            "_dom_classes": [],
            "description": "Downloading: 100%",
            "_model_name": "FloatProgressModel",
            "bar_style": "success",
            "max": 28,
            "_view_module": "@jupyter-widgets/controls",
            "_model_module_version": "1.5.0",
            "value": 28,
            "_view_count": null,
            "_view_module_version": "1.5.0",
            "orientation": "horizontal",
            "min": 0,
            "description_tooltip": null,
            "_model_module": "@jupyter-widgets/controls",
            "layout": "IPY_MODEL_ab3ea246580b43b58f7c4a535b6802a6"
          }
        },
        "3dbc6322d6564fe4bde5d7d6d1224d1a": {
          "model_module": "@jupyter-widgets/controls",
          "model_name": "HTMLModel",
          "state": {
            "_view_name": "HTMLView",
            "style": "IPY_MODEL_37bd0ded33134b5db663e91f6baa5c39",
            "_dom_classes": [],
            "description": "",
            "_model_name": "HTMLModel",
            "placeholder": "​",
            "_view_module": "@jupyter-widgets/controls",
            "_model_module_version": "1.5.0",
            "value": " 28.0/28.0 [00:00&lt;00:00, 122B/s]",
            "_view_count": null,
            "_view_module_version": "1.5.0",
            "description_tooltip": null,
            "_model_module": "@jupyter-widgets/controls",
            "layout": "IPY_MODEL_603aa113e13549ba84e00cc2039f98c0"
          }
        },
        "8a8b13636aa24007b41b6d2e49381fe3": {
          "model_module": "@jupyter-widgets/controls",
          "model_name": "ProgressStyleModel",
          "state": {
            "_view_name": "StyleView",
            "_model_name": "ProgressStyleModel",
            "description_width": "initial",
            "_view_module": "@jupyter-widgets/base",
            "_model_module_version": "1.5.0",
            "_view_count": null,
            "_view_module_version": "1.2.0",
            "bar_color": null,
            "_model_module": "@jupyter-widgets/controls"
          }
        },
        "ab3ea246580b43b58f7c4a535b6802a6": {
          "model_module": "@jupyter-widgets/base",
          "model_name": "LayoutModel",
          "state": {
            "_view_name": "LayoutView",
            "grid_template_rows": null,
            "right": null,
            "justify_content": null,
            "_view_module": "@jupyter-widgets/base",
            "overflow": null,
            "_model_module_version": "1.2.0",
            "_view_count": null,
            "flex_flow": null,
            "width": null,
            "min_width": null,
            "border": null,
            "align_items": null,
            "bottom": null,
            "_model_module": "@jupyter-widgets/base",
            "top": null,
            "grid_column": null,
            "overflow_y": null,
            "overflow_x": null,
            "grid_auto_flow": null,
            "grid_area": null,
            "grid_template_columns": null,
            "flex": null,
            "_model_name": "LayoutModel",
            "justify_items": null,
            "grid_row": null,
            "max_height": null,
            "align_content": null,
            "visibility": null,
            "align_self": null,
            "height": null,
            "min_height": null,
            "padding": null,
            "grid_auto_rows": null,
            "grid_gap": null,
            "max_width": null,
            "order": null,
            "_view_module_version": "1.2.0",
            "grid_template_areas": null,
            "object_position": null,
            "object_fit": null,
            "grid_auto_columns": null,
            "margin": null,
            "display": null,
            "left": null
          }
        },
        "37bd0ded33134b5db663e91f6baa5c39": {
          "model_module": "@jupyter-widgets/controls",
          "model_name": "DescriptionStyleModel",
          "state": {
            "_view_name": "StyleView",
            "_model_name": "DescriptionStyleModel",
            "description_width": "",
            "_view_module": "@jupyter-widgets/base",
            "_model_module_version": "1.5.0",
            "_view_count": null,
            "_view_module_version": "1.2.0",
            "_model_module": "@jupyter-widgets/controls"
          }
        },
        "603aa113e13549ba84e00cc2039f98c0": {
          "model_module": "@jupyter-widgets/base",
          "model_name": "LayoutModel",
          "state": {
            "_view_name": "LayoutView",
            "grid_template_rows": null,
            "right": null,
            "justify_content": null,
            "_view_module": "@jupyter-widgets/base",
            "overflow": null,
            "_model_module_version": "1.2.0",
            "_view_count": null,
            "flex_flow": null,
            "width": null,
            "min_width": null,
            "border": null,
            "align_items": null,
            "bottom": null,
            "_model_module": "@jupyter-widgets/base",
            "top": null,
            "grid_column": null,
            "overflow_y": null,
            "overflow_x": null,
            "grid_auto_flow": null,
            "grid_area": null,
            "grid_template_columns": null,
            "flex": null,
            "_model_name": "LayoutModel",
            "justify_items": null,
            "grid_row": null,
            "max_height": null,
            "align_content": null,
            "visibility": null,
            "align_self": null,
            "height": null,
            "min_height": null,
            "padding": null,
            "grid_auto_rows": null,
            "grid_gap": null,
            "max_width": null,
            "order": null,
            "_view_module_version": "1.2.0",
            "grid_template_areas": null,
            "object_position": null,
            "object_fit": null,
            "grid_auto_columns": null,
            "margin": null,
            "display": null,
            "left": null
          }
        },
        "27d4405454954709b5ff9e286df7492d": {
          "model_module": "@jupyter-widgets/controls",
          "model_name": "HBoxModel",
          "state": {
            "_view_name": "HBoxView",
            "_dom_classes": [],
            "_model_name": "HBoxModel",
            "_view_module": "@jupyter-widgets/controls",
            "_model_module_version": "1.5.0",
            "_view_count": null,
            "_view_module_version": "1.5.0",
            "box_style": "",
            "layout": "IPY_MODEL_228f234f197549f7b98b8d1202b123da",
            "_model_module": "@jupyter-widgets/controls",
            "children": [
              "IPY_MODEL_d9fc551600e347d891a12f66f7dfcb03",
              "IPY_MODEL_6549cd16298b4e9a9ed00bfd8a24ec8f"
            ]
          }
        },
        "228f234f197549f7b98b8d1202b123da": {
          "model_module": "@jupyter-widgets/base",
          "model_name": "LayoutModel",
          "state": {
            "_view_name": "LayoutView",
            "grid_template_rows": null,
            "right": null,
            "justify_content": null,
            "_view_module": "@jupyter-widgets/base",
            "overflow": null,
            "_model_module_version": "1.2.0",
            "_view_count": null,
            "flex_flow": null,
            "width": null,
            "min_width": null,
            "border": null,
            "align_items": null,
            "bottom": null,
            "_model_module": "@jupyter-widgets/base",
            "top": null,
            "grid_column": null,
            "overflow_y": null,
            "overflow_x": null,
            "grid_auto_flow": null,
            "grid_area": null,
            "grid_template_columns": null,
            "flex": null,
            "_model_name": "LayoutModel",
            "justify_items": null,
            "grid_row": null,
            "max_height": null,
            "align_content": null,
            "visibility": null,
            "align_self": null,
            "height": null,
            "min_height": null,
            "padding": null,
            "grid_auto_rows": null,
            "grid_gap": null,
            "max_width": null,
            "order": null,
            "_view_module_version": "1.2.0",
            "grid_template_areas": null,
            "object_position": null,
            "object_fit": null,
            "grid_auto_columns": null,
            "margin": null,
            "display": null,
            "left": null
          }
        },
        "d9fc551600e347d891a12f66f7dfcb03": {
          "model_module": "@jupyter-widgets/controls",
          "model_name": "FloatProgressModel",
          "state": {
            "_view_name": "ProgressView",
            "style": "IPY_MODEL_e7f69181e77046a78472bf60972d7402",
            "_dom_classes": [],
            "description": "Downloading: 100%",
            "_model_name": "FloatProgressModel",
            "bar_style": "success",
            "max": 536063208,
            "_view_module": "@jupyter-widgets/controls",
            "_model_module_version": "1.5.0",
            "value": 536063208,
            "_view_count": null,
            "_view_module_version": "1.5.0",
            "orientation": "horizontal",
            "min": 0,
            "description_tooltip": null,
            "_model_module": "@jupyter-widgets/controls",
            "layout": "IPY_MODEL_f01b3b2813b64f66a87ceb475f6c63f8"
          }
        },
        "6549cd16298b4e9a9ed00bfd8a24ec8f": {
          "model_module": "@jupyter-widgets/controls",
          "model_name": "HTMLModel",
          "state": {
            "_view_name": "HTMLView",
            "style": "IPY_MODEL_08c6e129aadb4f0d8dad6eab53c109e0",
            "_dom_classes": [],
            "description": "",
            "_model_name": "HTMLModel",
            "placeholder": "​",
            "_view_module": "@jupyter-widgets/controls",
            "_model_module_version": "1.5.0",
            "value": " 536M/536M [00:16&lt;00:00, 33.4MB/s]",
            "_view_count": null,
            "_view_module_version": "1.5.0",
            "description_tooltip": null,
            "_model_module": "@jupyter-widgets/controls",
            "layout": "IPY_MODEL_927140835bb449078c0963f47dfcd72e"
          }
        },
        "e7f69181e77046a78472bf60972d7402": {
          "model_module": "@jupyter-widgets/controls",
          "model_name": "ProgressStyleModel",
          "state": {
            "_view_name": "StyleView",
            "_model_name": "ProgressStyleModel",
            "description_width": "initial",
            "_view_module": "@jupyter-widgets/base",
            "_model_module_version": "1.5.0",
            "_view_count": null,
            "_view_module_version": "1.2.0",
            "bar_color": null,
            "_model_module": "@jupyter-widgets/controls"
          }
        },
        "f01b3b2813b64f66a87ceb475f6c63f8": {
          "model_module": "@jupyter-widgets/base",
          "model_name": "LayoutModel",
          "state": {
            "_view_name": "LayoutView",
            "grid_template_rows": null,
            "right": null,
            "justify_content": null,
            "_view_module": "@jupyter-widgets/base",
            "overflow": null,
            "_model_module_version": "1.2.0",
            "_view_count": null,
            "flex_flow": null,
            "width": null,
            "min_width": null,
            "border": null,
            "align_items": null,
            "bottom": null,
            "_model_module": "@jupyter-widgets/base",
            "top": null,
            "grid_column": null,
            "overflow_y": null,
            "overflow_x": null,
            "grid_auto_flow": null,
            "grid_area": null,
            "grid_template_columns": null,
            "flex": null,
            "_model_name": "LayoutModel",
            "justify_items": null,
            "grid_row": null,
            "max_height": null,
            "align_content": null,
            "visibility": null,
            "align_self": null,
            "height": null,
            "min_height": null,
            "padding": null,
            "grid_auto_rows": null,
            "grid_gap": null,
            "max_width": null,
            "order": null,
            "_view_module_version": "1.2.0",
            "grid_template_areas": null,
            "object_position": null,
            "object_fit": null,
            "grid_auto_columns": null,
            "margin": null,
            "display": null,
            "left": null
          }
        },
        "08c6e129aadb4f0d8dad6eab53c109e0": {
          "model_module": "@jupyter-widgets/controls",
          "model_name": "DescriptionStyleModel",
          "state": {
            "_view_name": "StyleView",
            "_model_name": "DescriptionStyleModel",
            "description_width": "",
            "_view_module": "@jupyter-widgets/base",
            "_model_module_version": "1.5.0",
            "_view_count": null,
            "_view_module_version": "1.2.0",
            "_model_module": "@jupyter-widgets/controls"
          }
        },
        "927140835bb449078c0963f47dfcd72e": {
          "model_module": "@jupyter-widgets/base",
          "model_name": "LayoutModel",
          "state": {
            "_view_name": "LayoutView",
            "grid_template_rows": null,
            "right": null,
            "justify_content": null,
            "_view_module": "@jupyter-widgets/base",
            "overflow": null,
            "_model_module_version": "1.2.0",
            "_view_count": null,
            "flex_flow": null,
            "width": null,
            "min_width": null,
            "border": null,
            "align_items": null,
            "bottom": null,
            "_model_module": "@jupyter-widgets/base",
            "top": null,
            "grid_column": null,
            "overflow_y": null,
            "overflow_x": null,
            "grid_auto_flow": null,
            "grid_area": null,
            "grid_template_columns": null,
            "flex": null,
            "_model_name": "LayoutModel",
            "justify_items": null,
            "grid_row": null,
            "max_height": null,
            "align_content": null,
            "visibility": null,
            "align_self": null,
            "height": null,
            "min_height": null,
            "padding": null,
            "grid_auto_rows": null,
            "grid_gap": null,
            "max_width": null,
            "order": null,
            "_view_module_version": "1.2.0",
            "grid_template_areas": null,
            "object_position": null,
            "object_fit": null,
            "grid_auto_columns": null,
            "margin": null,
            "display": null,
            "left": null
          }
        }
      }
    }
  },
  "cells": [
    {
      "cell_type": "code",
      "metadata": {
        "id": "SXqg-UMMbdKa"
      },
      "source": [
        "import warnings\n",
        "warnings.filterwarnings('ignore')"
      ],
      "execution_count": 1,
      "outputs": []
    },
    {
      "cell_type": "code",
      "metadata": {
        "colab": {
          "base_uri": "https://localhost:8080/"
        },
        "id": "kOalH_3Wbnq_",
        "outputId": "3ee9c556-bd18-47c0-b6ab-dd2e96f2677b"
      },
      "source": [
        "!pip install transformers\n",
        "!pip install mlxtend==0.17.0\n",
        "#Installing the contractions library\n",
        "!pip install contractions"
      ],
      "execution_count": 2,
      "outputs": [
        {
          "output_type": "stream",
          "text": [
            "Collecting transformers\n",
            "\u001b[?25l  Downloading https://files.pythonhosted.org/packages/b0/9e/5b80becd952d5f7250eaf8fc64b957077b12ccfe73e9c03d37146ab29712/transformers-4.6.0-py3-none-any.whl (2.3MB)\n",
            "\r\u001b[K     |▏                               | 10kB 21.0MB/s eta 0:00:01\r\u001b[K     |▎                               | 20kB 27.2MB/s eta 0:00:01\r\u001b[K     |▍                               | 30kB 29.5MB/s eta 0:00:01\r\u001b[K     |▋                               | 40kB 32.0MB/s eta 0:00:01\r\u001b[K     |▊                               | 51kB 33.8MB/s eta 0:00:01\r\u001b[K     |▉                               | 61kB 36.0MB/s eta 0:00:01\r\u001b[K     |█                               | 71kB 35.8MB/s eta 0:00:01\r\u001b[K     |█▏                              | 81kB 36.3MB/s eta 0:00:01\r\u001b[K     |█▎                              | 92kB 36.7MB/s eta 0:00:01\r\u001b[K     |█▍                              | 102kB 37.6MB/s eta 0:00:01\r\u001b[K     |█▌                              | 112kB 37.6MB/s eta 0:00:01\r\u001b[K     |█▊                              | 122kB 37.6MB/s eta 0:00:01\r\u001b[K     |█▉                              | 133kB 37.6MB/s eta 0:00:01\r\u001b[K     |██                              | 143kB 37.6MB/s eta 0:00:01\r\u001b[K     |██                              | 153kB 37.6MB/s eta 0:00:01\r\u001b[K     |██▎                             | 163kB 37.6MB/s eta 0:00:01\r\u001b[K     |██▍                             | 174kB 37.6MB/s eta 0:00:01\r\u001b[K     |██▌                             | 184kB 37.6MB/s eta 0:00:01\r\u001b[K     |██▋                             | 194kB 37.6MB/s eta 0:00:01\r\u001b[K     |██▉                             | 204kB 37.6MB/s eta 0:00:01\r\u001b[K     |███                             | 215kB 37.6MB/s eta 0:00:01\r\u001b[K     |███                             | 225kB 37.6MB/s eta 0:00:01\r\u001b[K     |███▎                            | 235kB 37.6MB/s eta 0:00:01\r\u001b[K     |███▍                            | 245kB 37.6MB/s eta 0:00:01\r\u001b[K     |███▌                            | 256kB 37.6MB/s eta 0:00:01\r\u001b[K     |███▋                            | 266kB 37.6MB/s eta 0:00:01\r\u001b[K     |███▉                            | 276kB 37.6MB/s eta 0:00:01\r\u001b[K     |████                            | 286kB 37.6MB/s eta 0:00:01\r\u001b[K     |████                            | 296kB 37.6MB/s eta 0:00:01\r\u001b[K     |████▏                           | 307kB 37.6MB/s eta 0:00:01\r\u001b[K     |████▍                           | 317kB 37.6MB/s eta 0:00:01\r\u001b[K     |████▌                           | 327kB 37.6MB/s eta 0:00:01\r\u001b[K     |████▋                           | 337kB 37.6MB/s eta 0:00:01\r\u001b[K     |████▊                           | 348kB 37.6MB/s eta 0:00:01\r\u001b[K     |█████                           | 358kB 37.6MB/s eta 0:00:01\r\u001b[K     |█████                           | 368kB 37.6MB/s eta 0:00:01\r\u001b[K     |█████▏                          | 378kB 37.6MB/s eta 0:00:01\r\u001b[K     |█████▎                          | 389kB 37.6MB/s eta 0:00:01\r\u001b[K     |█████▌                          | 399kB 37.6MB/s eta 0:00:01\r\u001b[K     |█████▋                          | 409kB 37.6MB/s eta 0:00:01\r\u001b[K     |█████▊                          | 419kB 37.6MB/s eta 0:00:01\r\u001b[K     |██████                          | 430kB 37.6MB/s eta 0:00:01\r\u001b[K     |██████                          | 440kB 37.6MB/s eta 0:00:01\r\u001b[K     |██████▏                         | 450kB 37.6MB/s eta 0:00:01\r\u001b[K     |██████▎                         | 460kB 37.6MB/s eta 0:00:01\r\u001b[K     |██████▌                         | 471kB 37.6MB/s eta 0:00:01\r\u001b[K     |██████▋                         | 481kB 37.6MB/s eta 0:00:01\r\u001b[K     |██████▊                         | 491kB 37.6MB/s eta 0:00:01\r\u001b[K     |██████▉                         | 501kB 37.6MB/s eta 0:00:01\r\u001b[K     |███████                         | 512kB 37.6MB/s eta 0:00:01\r\u001b[K     |███████▏                        | 522kB 37.6MB/s eta 0:00:01\r\u001b[K     |███████▎                        | 532kB 37.6MB/s eta 0:00:01\r\u001b[K     |███████▍                        | 542kB 37.6MB/s eta 0:00:01\r\u001b[K     |███████▋                        | 552kB 37.6MB/s eta 0:00:01\r\u001b[K     |███████▊                        | 563kB 37.6MB/s eta 0:00:01\r\u001b[K     |███████▉                        | 573kB 37.6MB/s eta 0:00:01\r\u001b[K     |████████                        | 583kB 37.6MB/s eta 0:00:01\r\u001b[K     |████████▏                       | 593kB 37.6MB/s eta 0:00:01\r\u001b[K     |████████▎                       | 604kB 37.6MB/s eta 0:00:01\r\u001b[K     |████████▍                       | 614kB 37.6MB/s eta 0:00:01\r\u001b[K     |████████▋                       | 624kB 37.6MB/s eta 0:00:01\r\u001b[K     |████████▊                       | 634kB 37.6MB/s eta 0:00:01\r\u001b[K     |████████▉                       | 645kB 37.6MB/s eta 0:00:01\r\u001b[K     |█████████                       | 655kB 37.6MB/s eta 0:00:01\r\u001b[K     |█████████▏                      | 665kB 37.6MB/s eta 0:00:01\r\u001b[K     |█████████▎                      | 675kB 37.6MB/s eta 0:00:01\r\u001b[K     |█████████▍                      | 686kB 37.6MB/s eta 0:00:01\r\u001b[K     |█████████▌                      | 696kB 37.6MB/s eta 0:00:01\r\u001b[K     |█████████▊                      | 706kB 37.6MB/s eta 0:00:01\r\u001b[K     |█████████▉                      | 716kB 37.6MB/s eta 0:00:01\r\u001b[K     |██████████                      | 727kB 37.6MB/s eta 0:00:01\r\u001b[K     |██████████                      | 737kB 37.6MB/s eta 0:00:01\r\u001b[K     |██████████▎                     | 747kB 37.6MB/s eta 0:00:01\r\u001b[K     |██████████▍                     | 757kB 37.6MB/s eta 0:00:01\r\u001b[K     |██████████▌                     | 768kB 37.6MB/s eta 0:00:01\r\u001b[K     |██████████▋                     | 778kB 37.6MB/s eta 0:00:01\r\u001b[K     |██████████▉                     | 788kB 37.6MB/s eta 0:00:01\r\u001b[K     |███████████                     | 798kB 37.6MB/s eta 0:00:01\r\u001b[K     |███████████                     | 808kB 37.6MB/s eta 0:00:01\r\u001b[K     |███████████▎                    | 819kB 37.6MB/s eta 0:00:01\r\u001b[K     |███████████▍                    | 829kB 37.6MB/s eta 0:00:01\r\u001b[K     |███████████▌                    | 839kB 37.6MB/s eta 0:00:01\r\u001b[K     |███████████▋                    | 849kB 37.6MB/s eta 0:00:01\r\u001b[K     |███████████▉                    | 860kB 37.6MB/s eta 0:00:01\r\u001b[K     |████████████                    | 870kB 37.6MB/s eta 0:00:01\r\u001b[K     |████████████                    | 880kB 37.6MB/s eta 0:00:01\r\u001b[K     |████████████▏                   | 890kB 37.6MB/s eta 0:00:01\r\u001b[K     |████████████▍                   | 901kB 37.6MB/s eta 0:00:01\r\u001b[K     |████████████▌                   | 911kB 37.6MB/s eta 0:00:01\r\u001b[K     |████████████▋                   | 921kB 37.6MB/s eta 0:00:01\r\u001b[K     |████████████▊                   | 931kB 37.6MB/s eta 0:00:01\r\u001b[K     |█████████████                   | 942kB 37.6MB/s eta 0:00:01\r\u001b[K     |█████████████                   | 952kB 37.6MB/s eta 0:00:01\r\u001b[K     |█████████████▏                  | 962kB 37.6MB/s eta 0:00:01\r\u001b[K     |█████████████▎                  | 972kB 37.6MB/s eta 0:00:01\r\u001b[K     |█████████████▌                  | 983kB 37.6MB/s eta 0:00:01\r\u001b[K     |█████████████▋                  | 993kB 37.6MB/s eta 0:00:01\r\u001b[K     |█████████████▊                  | 1.0MB 37.6MB/s eta 0:00:01\r\u001b[K     |██████████████                  | 1.0MB 37.6MB/s eta 0:00:01\r\u001b[K     |██████████████                  | 1.0MB 37.6MB/s eta 0:00:01\r\u001b[K     |██████████████▏                 | 1.0MB 37.6MB/s eta 0:00:01\r\u001b[K     |██████████████▎                 | 1.0MB 37.6MB/s eta 0:00:01\r\u001b[K     |██████████████▌                 | 1.1MB 37.6MB/s eta 0:00:01\r\u001b[K     |██████████████▋                 | 1.1MB 37.6MB/s eta 0:00:01\r\u001b[K     |██████████████▊                 | 1.1MB 37.6MB/s eta 0:00:01\r\u001b[K     |██████████████▉                 | 1.1MB 37.6MB/s eta 0:00:01\r\u001b[K     |███████████████                 | 1.1MB 37.6MB/s eta 0:00:01\r\u001b[K     |███████████████▏                | 1.1MB 37.6MB/s eta 0:00:01\r\u001b[K     |███████████████▎                | 1.1MB 37.6MB/s eta 0:00:01\r\u001b[K     |███████████████▍                | 1.1MB 37.6MB/s eta 0:00:01\r\u001b[K     |███████████████▋                | 1.1MB 37.6MB/s eta 0:00:01\r\u001b[K     |███████████████▊                | 1.1MB 37.6MB/s eta 0:00:01\r\u001b[K     |███████████████▉                | 1.2MB 37.6MB/s eta 0:00:01\r\u001b[K     |████████████████                | 1.2MB 37.6MB/s eta 0:00:01\r\u001b[K     |████████████████▏               | 1.2MB 37.6MB/s eta 0:00:01\r\u001b[K     |████████████████▎               | 1.2MB 37.6MB/s eta 0:00:01\r\u001b[K     |████████████████▍               | 1.2MB 37.6MB/s eta 0:00:01\r\u001b[K     |████████████████▋               | 1.2MB 37.6MB/s eta 0:00:01\r\u001b[K     |████████████████▊               | 1.2MB 37.6MB/s eta 0:00:01\r\u001b[K     |████████████████▉               | 1.2MB 37.6MB/s eta 0:00:01\r\u001b[K     |█████████████████               | 1.2MB 37.6MB/s eta 0:00:01\r\u001b[K     |█████████████████▏              | 1.2MB 37.6MB/s eta 0:00:01\r\u001b[K     |█████████████████▎              | 1.3MB 37.6MB/s eta 0:00:01\r\u001b[K     |█████████████████▍              | 1.3MB 37.6MB/s eta 0:00:01\r\u001b[K     |█████████████████▌              | 1.3MB 37.6MB/s eta 0:00:01\r\u001b[K     |█████████████████▊              | 1.3MB 37.6MB/s eta 0:00:01\r\u001b[K     |█████████████████▉              | 1.3MB 37.6MB/s eta 0:00:01\r\u001b[K     |██████████████████              | 1.3MB 37.6MB/s eta 0:00:01\r\u001b[K     |██████████████████              | 1.3MB 37.6MB/s eta 0:00:01\r\u001b[K     |██████████████████▎             | 1.3MB 37.6MB/s eta 0:00:01\r\u001b[K     |██████████████████▍             | 1.3MB 37.6MB/s eta 0:00:01\r\u001b[K     |██████████████████▌             | 1.4MB 37.6MB/s eta 0:00:01\r\u001b[K     |██████████████████▋             | 1.4MB 37.6MB/s eta 0:00:01\r\u001b[K     |██████████████████▉             | 1.4MB 37.6MB/s eta 0:00:01\r\u001b[K     |███████████████████             | 1.4MB 37.6MB/s eta 0:00:01\r\u001b[K     |███████████████████             | 1.4MB 37.6MB/s eta 0:00:01\r\u001b[K     |███████████████████▎            | 1.4MB 37.6MB/s eta 0:00:01\r\u001b[K     |███████████████████▍            | 1.4MB 37.6MB/s eta 0:00:01\r\u001b[K     |███████████████████▌            | 1.4MB 37.6MB/s eta 0:00:01\r\u001b[K     |███████████████████▋            | 1.4MB 37.6MB/s eta 0:00:01\r\u001b[K     |███████████████████▉            | 1.4MB 37.6MB/s eta 0:00:01\r\u001b[K     |████████████████████            | 1.5MB 37.6MB/s eta 0:00:01\r\u001b[K     |████████████████████            | 1.5MB 37.6MB/s eta 0:00:01\r\u001b[K     |████████████████████▏           | 1.5MB 37.6MB/s eta 0:00:01\r\u001b[K     |████████████████████▍           | 1.5MB 37.6MB/s eta 0:00:01\r\u001b[K     |████████████████████▌           | 1.5MB 37.6MB/s eta 0:00:01\r\u001b[K     |████████████████████▋           | 1.5MB 37.6MB/s eta 0:00:01\r\u001b[K     |████████████████████▊           | 1.5MB 37.6MB/s eta 0:00:01\r\u001b[K     |█████████████████████           | 1.5MB 37.6MB/s eta 0:00:01\r\u001b[K     |█████████████████████           | 1.5MB 37.6MB/s eta 0:00:01\r\u001b[K     |█████████████████████▏          | 1.5MB 37.6MB/s eta 0:00:01\r\u001b[K     |█████████████████████▎          | 1.6MB 37.6MB/s eta 0:00:01\r\u001b[K     |█████████████████████▌          | 1.6MB 37.6MB/s eta 0:00:01\r\u001b[K     |█████████████████████▋          | 1.6MB 37.6MB/s eta 0:00:01\r\u001b[K     |█████████████████████▊          | 1.6MB 37.6MB/s eta 0:00:01\r\u001b[K     |█████████████████████▉          | 1.6MB 37.6MB/s eta 0:00:01\r\u001b[K     |██████████████████████          | 1.6MB 37.6MB/s eta 0:00:01\r\u001b[K     |██████████████████████▏         | 1.6MB 37.6MB/s eta 0:00:01\r\u001b[K     |██████████████████████▎         | 1.6MB 37.6MB/s eta 0:00:01\r\u001b[K     |██████████████████████▌         | 1.6MB 37.6MB/s eta 0:00:01\r\u001b[K     |██████████████████████▋         | 1.6MB 37.6MB/s eta 0:00:01\r\u001b[K     |██████████████████████▊         | 1.7MB 37.6MB/s eta 0:00:01\r\u001b[K     |██████████████████████▉         | 1.7MB 37.6MB/s eta 0:00:01\r\u001b[K     |███████████████████████         | 1.7MB 37.6MB/s eta 0:00:01\r\u001b[K     |███████████████████████▏        | 1.7MB 37.6MB/s eta 0:00:01\r\u001b[K     |███████████████████████▎        | 1.7MB 37.6MB/s eta 0:00:01\r\u001b[K     |███████████████████████▍        | 1.7MB 37.6MB/s eta 0:00:01\r\u001b[K     |███████████████████████▋        | 1.7MB 37.6MB/s eta 0:00:01\r\u001b[K     |███████████████████████▊        | 1.7MB 37.6MB/s eta 0:00:01\r\u001b[K     |███████████████████████▉        | 1.7MB 37.6MB/s eta 0:00:01\r\u001b[K     |████████████████████████        | 1.8MB 37.6MB/s eta 0:00:01\r\u001b[K     |████████████████████████▏       | 1.8MB 37.6MB/s eta 0:00:01\r\u001b[K     |████████████████████████▎       | 1.8MB 37.6MB/s eta 0:00:01\r\u001b[K     |████████████████████████▍       | 1.8MB 37.6MB/s eta 0:00:01\r\u001b[K     |████████████████████████▌       | 1.8MB 37.6MB/s eta 0:00:01\r\u001b[K     |████████████████████████▊       | 1.8MB 37.6MB/s eta 0:00:01\r\u001b[K     |████████████████████████▉       | 1.8MB 37.6MB/s eta 0:00:01\r\u001b[K     |█████████████████████████       | 1.8MB 37.6MB/s eta 0:00:01\r\u001b[K     |█████████████████████████▏      | 1.8MB 37.6MB/s eta 0:00:01\r\u001b[K     |█████████████████████████▎      | 1.8MB 37.6MB/s eta 0:00:01\r\u001b[K     |█████████████████████████▍      | 1.9MB 37.6MB/s eta 0:00:01\r\u001b[K     |█████████████████████████▌      | 1.9MB 37.6MB/s eta 0:00:01\r\u001b[K     |█████████████████████████▊      | 1.9MB 37.6MB/s eta 0:00:01\r\u001b[K     |█████████████████████████▉      | 1.9MB 37.6MB/s eta 0:00:01\r\u001b[K     |██████████████████████████      | 1.9MB 37.6MB/s eta 0:00:01\r\u001b[K     |██████████████████████████      | 1.9MB 37.6MB/s eta 0:00:01\r\u001b[K     |██████████████████████████▎     | 1.9MB 37.6MB/s eta 0:00:01\r\u001b[K     |██████████████████████████▍     | 1.9MB 37.6MB/s eta 0:00:01\r\u001b[K     |██████████████████████████▌     | 1.9MB 37.6MB/s eta 0:00:01\r\u001b[K     |██████████████████████████▋     | 1.9MB 37.6MB/s eta 0:00:01\r\u001b[K     |██████████████████████████▉     | 2.0MB 37.6MB/s eta 0:00:01\r\u001b[K     |███████████████████████████     | 2.0MB 37.6MB/s eta 0:00:01\r\u001b[K     |███████████████████████████     | 2.0MB 37.6MB/s eta 0:00:01\r\u001b[K     |███████████████████████████▏    | 2.0MB 37.6MB/s eta 0:00:01\r\u001b[K     |███████████████████████████▍    | 2.0MB 37.6MB/s eta 0:00:01\r\u001b[K     |███████████████████████████▌    | 2.0MB 37.6MB/s eta 0:00:01\r\u001b[K     |███████████████████████████▋    | 2.0MB 37.6MB/s eta 0:00:01\r\u001b[K     |███████████████████████████▉    | 2.0MB 37.6MB/s eta 0:00:01\r\u001b[K     |████████████████████████████    | 2.0MB 37.6MB/s eta 0:00:01\r\u001b[K     |████████████████████████████    | 2.0MB 37.6MB/s eta 0:00:01\r\u001b[K     |████████████████████████████▏   | 2.1MB 37.6MB/s eta 0:00:01\r\u001b[K     |████████████████████████████▍   | 2.1MB 37.6MB/s eta 0:00:01\r\u001b[K     |████████████████████████████▌   | 2.1MB 37.6MB/s eta 0:00:01\r\u001b[K     |████████████████████████████▋   | 2.1MB 37.6MB/s eta 0:00:01\r\u001b[K     |████████████████████████████▊   | 2.1MB 37.6MB/s eta 0:00:01\r\u001b[K     |█████████████████████████████   | 2.1MB 37.6MB/s eta 0:00:01\r\u001b[K     |█████████████████████████████   | 2.1MB 37.6MB/s eta 0:00:01\r\u001b[K     |█████████████████████████████▏  | 2.1MB 37.6MB/s eta 0:00:01\r\u001b[K     |█████████████████████████████▎  | 2.1MB 37.6MB/s eta 0:00:01\r\u001b[K     |█████████████████████████████▌  | 2.2MB 37.6MB/s eta 0:00:01\r\u001b[K     |█████████████████████████████▋  | 2.2MB 37.6MB/s eta 0:00:01\r\u001b[K     |█████████████████████████████▊  | 2.2MB 37.6MB/s eta 0:00:01\r\u001b[K     |█████████████████████████████▉  | 2.2MB 37.6MB/s eta 0:00:01\r\u001b[K     |██████████████████████████████  | 2.2MB 37.6MB/s eta 0:00:01\r\u001b[K     |██████████████████████████████▏ | 2.2MB 37.6MB/s eta 0:00:01\r\u001b[K     |██████████████████████████████▎ | 2.2MB 37.6MB/s eta 0:00:01\r\u001b[K     |██████████████████████████████▌ | 2.2MB 37.6MB/s eta 0:00:01\r\u001b[K     |██████████████████████████████▋ | 2.2MB 37.6MB/s eta 0:00:01\r\u001b[K     |██████████████████████████████▊ | 2.2MB 37.6MB/s eta 0:00:01\r\u001b[K     |██████████████████████████████▉ | 2.3MB 37.6MB/s eta 0:00:01\r\u001b[K     |███████████████████████████████ | 2.3MB 37.6MB/s eta 0:00:01\r\u001b[K     |███████████████████████████████▏| 2.3MB 37.6MB/s eta 0:00:01\r\u001b[K     |███████████████████████████████▎| 2.3MB 37.6MB/s eta 0:00:01\r\u001b[K     |███████████████████████████████▍| 2.3MB 37.6MB/s eta 0:00:01\r\u001b[K     |███████████████████████████████▋| 2.3MB 37.6MB/s eta 0:00:01\r\u001b[K     |███████████████████████████████▊| 2.3MB 37.6MB/s eta 0:00:01\r\u001b[K     |███████████████████████████████▉| 2.3MB 37.6MB/s eta 0:00:01\r\u001b[K     |████████████████████████████████| 2.3MB 37.6MB/s eta 0:00:01\r\u001b[K     |████████████████████████████████| 2.3MB 37.6MB/s \n",
            "\u001b[?25hRequirement already satisfied: importlib-metadata; python_version < \"3.8\" in /usr/local/lib/python3.7/dist-packages (from transformers) (4.0.1)\n",
            "Collecting huggingface-hub==0.0.8\n",
            "  Downloading https://files.pythonhosted.org/packages/a1/88/7b1e45720ecf59c6c6737ff332f41c955963090a18e72acbcbeac6b25e86/huggingface_hub-0.0.8-py3-none-any.whl\n",
            "Requirement already satisfied: packaging in /usr/local/lib/python3.7/dist-packages (from transformers) (20.9)\n",
            "Requirement already satisfied: requests in /usr/local/lib/python3.7/dist-packages (from transformers) (2.23.0)\n",
            "Collecting tokenizers<0.11,>=0.10.1\n",
            "\u001b[?25l  Downloading https://files.pythonhosted.org/packages/ae/04/5b870f26a858552025a62f1649c20d29d2672c02ff3c3fb4c688ca46467a/tokenizers-0.10.2-cp37-cp37m-manylinux2010_x86_64.whl (3.3MB)\n",
            "\u001b[K     |████████████████████████████████| 3.3MB 45.3MB/s \n",
            "\u001b[?25hRequirement already satisfied: tqdm>=4.27 in /usr/local/lib/python3.7/dist-packages (from transformers) (4.41.1)\n",
            "Requirement already satisfied: regex!=2019.12.17 in /usr/local/lib/python3.7/dist-packages (from transformers) (2019.12.20)\n",
            "Requirement already satisfied: filelock in /usr/local/lib/python3.7/dist-packages (from transformers) (3.0.12)\n",
            "Collecting sacremoses\n",
            "\u001b[?25l  Downloading https://files.pythonhosted.org/packages/75/ee/67241dc87f266093c533a2d4d3d69438e57d7a90abb216fa076e7d475d4a/sacremoses-0.0.45-py3-none-any.whl (895kB)\n",
            "\u001b[K     |████████████████████████████████| 901kB 43.9MB/s \n",
            "\u001b[?25hRequirement already satisfied: numpy>=1.17 in /usr/local/lib/python3.7/dist-packages (from transformers) (1.19.5)\n",
            "Requirement already satisfied: zipp>=0.5 in /usr/local/lib/python3.7/dist-packages (from importlib-metadata; python_version < \"3.8\"->transformers) (3.4.1)\n",
            "Requirement already satisfied: typing-extensions>=3.6.4; python_version < \"3.8\" in /usr/local/lib/python3.7/dist-packages (from importlib-metadata; python_version < \"3.8\"->transformers) (3.7.4.3)\n",
            "Requirement already satisfied: pyparsing>=2.0.2 in /usr/local/lib/python3.7/dist-packages (from packaging->transformers) (2.4.7)\n",
            "Requirement already satisfied: chardet<4,>=3.0.2 in /usr/local/lib/python3.7/dist-packages (from requests->transformers) (3.0.4)\n",
            "Requirement already satisfied: idna<3,>=2.5 in /usr/local/lib/python3.7/dist-packages (from requests->transformers) (2.10)\n",
            "Requirement already satisfied: urllib3!=1.25.0,!=1.25.1,<1.26,>=1.21.1 in /usr/local/lib/python3.7/dist-packages (from requests->transformers) (1.24.3)\n",
            "Requirement already satisfied: certifi>=2017.4.17 in /usr/local/lib/python3.7/dist-packages (from requests->transformers) (2020.12.5)\n",
            "Requirement already satisfied: six in /usr/local/lib/python3.7/dist-packages (from sacremoses->transformers) (1.15.0)\n",
            "Requirement already satisfied: joblib in /usr/local/lib/python3.7/dist-packages (from sacremoses->transformers) (1.0.1)\n",
            "Requirement already satisfied: click in /usr/local/lib/python3.7/dist-packages (from sacremoses->transformers) (7.1.2)\n",
            "Installing collected packages: huggingface-hub, tokenizers, sacremoses, transformers\n",
            "Successfully installed huggingface-hub-0.0.8 sacremoses-0.0.45 tokenizers-0.10.2 transformers-4.6.0\n",
            "Collecting mlxtend==0.17.0\n",
            "\u001b[?25l  Downloading https://files.pythonhosted.org/packages/52/04/c362f34f666f0ddc7cf593805e64d64fa670ed96fd9302e68549dd48287d/mlxtend-0.17.0-py2.py3-none-any.whl (1.3MB)\n",
            "\u001b[K     |████████████████████████████████| 1.3MB 28.0MB/s \n",
            "\u001b[?25hRequirement already satisfied: pandas>=0.24.2 in /usr/local/lib/python3.7/dist-packages (from mlxtend==0.17.0) (1.1.5)\n",
            "Requirement already satisfied: scipy>=1.2.1 in /usr/local/lib/python3.7/dist-packages (from mlxtend==0.17.0) (1.4.1)\n",
            "Requirement already satisfied: matplotlib>=3.0.0 in /usr/local/lib/python3.7/dist-packages (from mlxtend==0.17.0) (3.2.2)\n",
            "Requirement already satisfied: numpy>=1.16.2 in /usr/local/lib/python3.7/dist-packages (from mlxtend==0.17.0) (1.19.5)\n",
            "Requirement already satisfied: scikit-learn>=0.20.3 in /usr/local/lib/python3.7/dist-packages (from mlxtend==0.17.0) (0.22.2.post1)\n",
            "Requirement already satisfied: setuptools in /usr/local/lib/python3.7/dist-packages (from mlxtend==0.17.0) (56.1.0)\n",
            "Requirement already satisfied: joblib>=0.13.2 in /usr/local/lib/python3.7/dist-packages (from mlxtend==0.17.0) (1.0.1)\n",
            "Requirement already satisfied: pytz>=2017.2 in /usr/local/lib/python3.7/dist-packages (from pandas>=0.24.2->mlxtend==0.17.0) (2018.9)\n",
            "Requirement already satisfied: python-dateutil>=2.7.3 in /usr/local/lib/python3.7/dist-packages (from pandas>=0.24.2->mlxtend==0.17.0) (2.8.1)\n",
            "Requirement already satisfied: pyparsing!=2.0.4,!=2.1.2,!=2.1.6,>=2.0.1 in /usr/local/lib/python3.7/dist-packages (from matplotlib>=3.0.0->mlxtend==0.17.0) (2.4.7)\n",
            "Requirement already satisfied: kiwisolver>=1.0.1 in /usr/local/lib/python3.7/dist-packages (from matplotlib>=3.0.0->mlxtend==0.17.0) (1.3.1)\n",
            "Requirement already satisfied: cycler>=0.10 in /usr/local/lib/python3.7/dist-packages (from matplotlib>=3.0.0->mlxtend==0.17.0) (0.10.0)\n",
            "Requirement already satisfied: six>=1.5 in /usr/local/lib/python3.7/dist-packages (from python-dateutil>=2.7.3->pandas>=0.24.2->mlxtend==0.17.0) (1.15.0)\n",
            "Installing collected packages: mlxtend\n",
            "  Found existing installation: mlxtend 0.14.0\n",
            "    Uninstalling mlxtend-0.14.0:\n",
            "      Successfully uninstalled mlxtend-0.14.0\n",
            "Successfully installed mlxtend-0.17.0\n",
            "Collecting contractions\n",
            "  Downloading https://files.pythonhosted.org/packages/0a/04/d5e0bb9f2cef5d15616ebf68087a725c5dbdd71bd422bcfb35d709f98ce7/contractions-0.0.48-py2.py3-none-any.whl\n",
            "Collecting textsearch>=0.0.21\n",
            "  Downloading https://files.pythonhosted.org/packages/d3/fe/021d7d76961b5ceb9f8d022c4138461d83beff36c3938dc424586085e559/textsearch-0.0.21-py2.py3-none-any.whl\n",
            "Collecting pyahocorasick\n",
            "\u001b[?25l  Downloading https://files.pythonhosted.org/packages/7f/c2/eae730037ae1cbbfaa229d27030d1d5e34a1e41114b21447d1202ae9c220/pyahocorasick-1.4.2.tar.gz (321kB)\n",
            "\u001b[K     |████████████████████████████████| 327kB 39.7MB/s \n",
            "\u001b[?25hCollecting anyascii\n",
            "\u001b[?25l  Downloading https://files.pythonhosted.org/packages/a3/14/666cd44bf53f36a961544af592cb5c5c800013f9c51a4745af8d7c17362a/anyascii-0.2.0-py3-none-any.whl (283kB)\n",
            "\u001b[K     |████████████████████████████████| 286kB 42.4MB/s \n",
            "\u001b[?25hBuilding wheels for collected packages: pyahocorasick\n",
            "  Building wheel for pyahocorasick (setup.py) ... \u001b[?25l\u001b[?25hdone\n",
            "  Created wheel for pyahocorasick: filename=pyahocorasick-1.4.2-cp37-cp37m-linux_x86_64.whl size=85390 sha256=257e1f6e477fc16b1a0a493ecf01cc8e09dd07b9344fa637f1fe06272c81baf5\n",
            "  Stored in directory: /root/.cache/pip/wheels/3a/03/34/77e3ece0bba8b86bfac88a79f923b36d805cad63caeba38842\n",
            "Successfully built pyahocorasick\n",
            "Installing collected packages: pyahocorasick, anyascii, textsearch, contractions\n",
            "Successfully installed anyascii-0.2.0 contractions-0.0.48 pyahocorasick-1.4.2 textsearch-0.0.21\n"
          ],
          "name": "stdout"
        }
      ]
    },
    {
      "cell_type": "code",
      "metadata": {
        "colab": {
          "base_uri": "https://localhost:8080/",
          "height": 372,
          "referenced_widgets": [
            "98c0b0da7f9c471086adf374ad0a1e6e",
            "20af534aca324ff39f7416e37985d3ac",
            "f282ec1c80da412595c3e59ce1140b94",
            "84f1092047654dcdb02f80b656582af1",
            "a25904a2473b41009e7683bcf6627047",
            "7d1377acba2748aab772c65a2fe64d1c",
            "10375b5cdb5142e0a623ed2563a633dc",
            "a5d47fb705e04bcdbce361c5ee93e08e",
            "456c406b39b2411bb5821440a8954e59",
            "5508b069c0914666be1c675b6caae436",
            "b012af4b685247e2af1bf047d365d5a4",
            "09b538d5630b4000a7a9265791d9e538",
            "aee502688d344e4fbbf58738f480c168",
            "01778ee7599445c8a3cd479fc6237f83",
            "2cd73c97fe514e2281986f9fb9c5fc0c",
            "edb377944b5a4019bc393f81b1119705",
            "d84282ee488d4cb593126e95796e3162",
            "aabb2e44057646bb8e5b22f2c4b63c14",
            "dc4ea17c203b4622a35a6457c76c9498",
            "c5bd59d142384c80b6c5f6aa7c92326d",
            "2a671089db144eddac97649e05820f5f",
            "765e00c8d7d84487804918cd381165e6",
            "92a8d0ec356d4596a11c83f1377cddd9",
            "62987afbedeb46c09610e2385f8ea960",
            "618019ff11b249389a568a7e488d8550",
            "30833361b5904b37822f648a16d27cb0",
            "6762be65cae84ac7933830f72abe1984",
            "3dbc6322d6564fe4bde5d7d6d1224d1a",
            "8a8b13636aa24007b41b6d2e49381fe3",
            "ab3ea246580b43b58f7c4a535b6802a6",
            "37bd0ded33134b5db663e91f6baa5c39",
            "603aa113e13549ba84e00cc2039f98c0",
            "27d4405454954709b5ff9e286df7492d",
            "228f234f197549f7b98b8d1202b123da",
            "d9fc551600e347d891a12f66f7dfcb03",
            "6549cd16298b4e9a9ed00bfd8a24ec8f",
            "e7f69181e77046a78472bf60972d7402",
            "f01b3b2813b64f66a87ceb475f6c63f8",
            "08c6e129aadb4f0d8dad6eab53c109e0",
            "927140835bb449078c0963f47dfcd72e"
          ]
        },
        "id": "xeR3e33DrRm1",
        "outputId": "3330b753-1228-471d-9e86-737e144bac25"
      },
      "source": [
        "from transformers import AutoTokenizer, TFAutoModel\n",
        "tokenizer = AutoTokenizer.from_pretrained(\"bert-base-uncased\")\n",
        "bert = TFAutoModel.from_pretrained(\"bert-base-uncased\").bert"
      ],
      "execution_count": 3,
      "outputs": [
        {
          "output_type": "display_data",
          "data": {
            "application/vnd.jupyter.widget-view+json": {
              "model_id": "98c0b0da7f9c471086adf374ad0a1e6e",
              "version_minor": 0,
              "version_major": 2
            },
            "text/plain": [
              "HBox(children=(FloatProgress(value=0.0, description='Downloading', max=570.0, style=ProgressStyle(description_…"
            ]
          },
          "metadata": {
            "tags": []
          }
        },
        {
          "output_type": "stream",
          "text": [
            "\n"
          ],
          "name": "stdout"
        },
        {
          "output_type": "display_data",
          "data": {
            "application/vnd.jupyter.widget-view+json": {
              "model_id": "456c406b39b2411bb5821440a8954e59",
              "version_minor": 0,
              "version_major": 2
            },
            "text/plain": [
              "HBox(children=(FloatProgress(value=0.0, description='Downloading', max=231508.0, style=ProgressStyle(descripti…"
            ]
          },
          "metadata": {
            "tags": []
          }
        },
        {
          "output_type": "stream",
          "text": [
            "\n"
          ],
          "name": "stdout"
        },
        {
          "output_type": "display_data",
          "data": {
            "application/vnd.jupyter.widget-view+json": {
              "model_id": "d84282ee488d4cb593126e95796e3162",
              "version_minor": 0,
              "version_major": 2
            },
            "text/plain": [
              "HBox(children=(FloatProgress(value=0.0, description='Downloading', max=466062.0, style=ProgressStyle(descripti…"
            ]
          },
          "metadata": {
            "tags": []
          }
        },
        {
          "output_type": "stream",
          "text": [
            "\n"
          ],
          "name": "stdout"
        },
        {
          "output_type": "display_data",
          "data": {
            "application/vnd.jupyter.widget-view+json": {
              "model_id": "618019ff11b249389a568a7e488d8550",
              "version_minor": 0,
              "version_major": 2
            },
            "text/plain": [
              "HBox(children=(FloatProgress(value=0.0, description='Downloading', max=28.0, style=ProgressStyle(description_w…"
            ]
          },
          "metadata": {
            "tags": []
          }
        },
        {
          "output_type": "stream",
          "text": [
            "\n"
          ],
          "name": "stdout"
        },
        {
          "output_type": "display_data",
          "data": {
            "application/vnd.jupyter.widget-view+json": {
              "model_id": "27d4405454954709b5ff9e286df7492d",
              "version_minor": 0,
              "version_major": 2
            },
            "text/plain": [
              "HBox(children=(FloatProgress(value=0.0, description='Downloading', max=536063208.0, style=ProgressStyle(descri…"
            ]
          },
          "metadata": {
            "tags": []
          }
        },
        {
          "output_type": "stream",
          "text": [
            "\n"
          ],
          "name": "stdout"
        },
        {
          "output_type": "stream",
          "text": [
            "Some layers from the model checkpoint at bert-base-uncased were not used when initializing TFBertModel: ['nsp___cls', 'mlm___cls']\n",
            "- This IS expected if you are initializing TFBertModel from the checkpoint of a model trained on another task or with another architecture (e.g. initializing a BertForSequenceClassification model from a BertForPreTraining model).\n",
            "- This IS NOT expected if you are initializing TFBertModel from the checkpoint of a model that you expect to be exactly identical (initializing a BertForSequenceClassification model from a BertForSequenceClassification model).\n",
            "All the layers of TFBertModel were initialized from the model checkpoint at bert-base-uncased.\n",
            "If your task is similar to the task the model of the checkpoint was trained on, you can already use TFBertModel for predictions without further training.\n"
          ],
          "name": "stderr"
        }
      ]
    },
    {
      "cell_type": "code",
      "metadata": {
        "id": "lOmAm7dPoMCq",
        "colab": {
          "base_uri": "https://localhost:8080/"
        },
        "outputId": "87e85c62-eea8-4624-f722-8ff860b85c71"
      },
      "source": [
        "from google.colab import drive\n",
        "drive.mount('/content/drive')"
      ],
      "execution_count": 7,
      "outputs": [
        {
          "output_type": "stream",
          "text": [
            "Mounted at /content/drive\n"
          ],
          "name": "stdout"
        }
      ]
    },
    {
      "cell_type": "code",
      "metadata": {
        "id": "UwZuHamhoNRM",
        "colab": {
          "base_uri": "https://localhost:8080/",
          "height": 199
        },
        "outputId": "dc82bec1-d854-4d0c-b14b-1eb9513d3bc9"
      },
      "source": [
        "import pandas as pd\n",
        "import numpy as np\n",
        "\n",
        "df=pd.read_csv('/content/drive/MyDrive/FY_Project/OLIDv1.0/olid_dataset.tsv',sep=\"\\t\")\n",
        "df.head()"
      ],
      "execution_count": 8,
      "outputs": [
        {
          "output_type": "execute_result",
          "data": {
            "text/html": [
              "<div>\n",
              "<style scoped>\n",
              "    .dataframe tbody tr th:only-of-type {\n",
              "        vertical-align: middle;\n",
              "    }\n",
              "\n",
              "    .dataframe tbody tr th {\n",
              "        vertical-align: top;\n",
              "    }\n",
              "\n",
              "    .dataframe thead th {\n",
              "        text-align: right;\n",
              "    }\n",
              "</style>\n",
              "<table border=\"1\" class=\"dataframe\">\n",
              "  <thead>\n",
              "    <tr style=\"text-align: right;\">\n",
              "      <th></th>\n",
              "      <th>id</th>\n",
              "      <th>tweet</th>\n",
              "      <th>subtask_a</th>\n",
              "      <th>subtask_b</th>\n",
              "      <th>subtask_c</th>\n",
              "    </tr>\n",
              "  </thead>\n",
              "  <tbody>\n",
              "    <tr>\n",
              "      <th>0</th>\n",
              "      <td>86426</td>\n",
              "      <td>@USER She should ask a few native Americans wh...</td>\n",
              "      <td>OFF</td>\n",
              "      <td>UNT</td>\n",
              "      <td>NaN</td>\n",
              "    </tr>\n",
              "    <tr>\n",
              "      <th>1</th>\n",
              "      <td>90194</td>\n",
              "      <td>@USER @USER Go home you’re drunk!!! @USER #MAG...</td>\n",
              "      <td>OFF</td>\n",
              "      <td>TIN</td>\n",
              "      <td>IND</td>\n",
              "    </tr>\n",
              "    <tr>\n",
              "      <th>2</th>\n",
              "      <td>16820</td>\n",
              "      <td>Amazon is investigating Chinese employees who ...</td>\n",
              "      <td>NOT</td>\n",
              "      <td>NaN</td>\n",
              "      <td>NaN</td>\n",
              "    </tr>\n",
              "    <tr>\n",
              "      <th>3</th>\n",
              "      <td>62688</td>\n",
              "      <td>@USER Someone should'veTaken\" this piece of sh...</td>\n",
              "      <td>OFF</td>\n",
              "      <td>UNT</td>\n",
              "      <td>NaN</td>\n",
              "    </tr>\n",
              "    <tr>\n",
              "      <th>4</th>\n",
              "      <td>43605</td>\n",
              "      <td>@USER @USER Obama wanted liberals &amp;amp; illega...</td>\n",
              "      <td>NOT</td>\n",
              "      <td>NaN</td>\n",
              "      <td>NaN</td>\n",
              "    </tr>\n",
              "  </tbody>\n",
              "</table>\n",
              "</div>"
            ],
            "text/plain": [
              "      id                                              tweet  ... subtask_b subtask_c\n",
              "0  86426  @USER She should ask a few native Americans wh...  ...       UNT       NaN\n",
              "1  90194  @USER @USER Go home you’re drunk!!! @USER #MAG...  ...       TIN       IND\n",
              "2  16820  Amazon is investigating Chinese employees who ...  ...       NaN       NaN\n",
              "3  62688  @USER Someone should'veTaken\" this piece of sh...  ...       UNT       NaN\n",
              "4  43605  @USER @USER Obama wanted liberals &amp; illega...  ...       NaN       NaN\n",
              "\n",
              "[5 rows x 5 columns]"
            ]
          },
          "metadata": {
            "tags": []
          },
          "execution_count": 8
        }
      ]
    },
    {
      "cell_type": "code",
      "metadata": {
        "colab": {
          "base_uri": "https://localhost:8080/",
          "height": 199
        },
        "id": "4aobhrIDicSN",
        "outputId": "9db906d2-b963-43e7-f68b-18a2e5e49164"
      },
      "source": [
        "df=df.loc[df[\"subtask_c\"].notnull()]\n",
        "df.reset_index(drop=True,inplace=True)\n",
        "df=df.drop(['subtask_a', 'subtask_b'], axis=1)\n",
        "df['subtask_c']=df['subtask_c'].apply(lambda x: 1 if x =='IND' else (2 if x=='GRP' else 0))\n",
        "df.head()"
      ],
      "execution_count": 9,
      "outputs": [
        {
          "output_type": "execute_result",
          "data": {
            "text/html": [
              "<div>\n",
              "<style scoped>\n",
              "    .dataframe tbody tr th:only-of-type {\n",
              "        vertical-align: middle;\n",
              "    }\n",
              "\n",
              "    .dataframe tbody tr th {\n",
              "        vertical-align: top;\n",
              "    }\n",
              "\n",
              "    .dataframe thead th {\n",
              "        text-align: right;\n",
              "    }\n",
              "</style>\n",
              "<table border=\"1\" class=\"dataframe\">\n",
              "  <thead>\n",
              "    <tr style=\"text-align: right;\">\n",
              "      <th></th>\n",
              "      <th>id</th>\n",
              "      <th>tweet</th>\n",
              "      <th>subtask_c</th>\n",
              "    </tr>\n",
              "  </thead>\n",
              "  <tbody>\n",
              "    <tr>\n",
              "      <th>0</th>\n",
              "      <td>90194</td>\n",
              "      <td>@USER @USER Go home you’re drunk!!! @USER #MAG...</td>\n",
              "      <td>1</td>\n",
              "    </tr>\n",
              "    <tr>\n",
              "      <th>1</th>\n",
              "      <td>97670</td>\n",
              "      <td>@USER Liberals are all Kookoo !!!</td>\n",
              "      <td>0</td>\n",
              "    </tr>\n",
              "    <tr>\n",
              "      <th>2</th>\n",
              "      <td>52415</td>\n",
              "      <td>@USER was literally just talking about this lo...</td>\n",
              "      <td>2</td>\n",
              "    </tr>\n",
              "    <tr>\n",
              "      <th>3</th>\n",
              "      <td>13384</td>\n",
              "      <td>@USER Canada doesn’t need another CUCK! We alr...</td>\n",
              "      <td>1</td>\n",
              "    </tr>\n",
              "    <tr>\n",
              "      <th>4</th>\n",
              "      <td>28414</td>\n",
              "      <td>@USER you are a lying corrupt traitor!!! Nobod...</td>\n",
              "      <td>1</td>\n",
              "    </tr>\n",
              "  </tbody>\n",
              "</table>\n",
              "</div>"
            ],
            "text/plain": [
              "      id                                              tweet  subtask_c\n",
              "0  90194  @USER @USER Go home you’re drunk!!! @USER #MAG...          1\n",
              "1  97670                  @USER Liberals are all Kookoo !!!          0\n",
              "2  52415  @USER was literally just talking about this lo...          2\n",
              "3  13384  @USER Canada doesn’t need another CUCK! We alr...          1\n",
              "4  28414  @USER you are a lying corrupt traitor!!! Nobod...          1"
            ]
          },
          "metadata": {
            "tags": []
          },
          "execution_count": 9
        }
      ]
    },
    {
      "cell_type": "code",
      "metadata": {
        "id": "DZ_dHovCcwhN"
      },
      "source": [
        "#importing required libraries\n",
        "import nltk\n",
        "import inflect\n",
        "import contractions\n",
        "from textblob import TextBlob \n",
        "from bs4 import BeautifulSoup\n",
        "import re, string, unicodedata\n",
        "from nltk import word_tokenize, sent_tokenize\n",
        "from nltk.corpus import stopwords\n",
        "from nltk.stem import WordNetLemmatizer"
      ],
      "execution_count": 10,
      "outputs": []
    },
    {
      "cell_type": "code",
      "metadata": {
        "colab": {
          "base_uri": "https://localhost:8080/",
          "height": 36
        },
        "id": "NashCzOSc0ee",
        "outputId": "c7c0cd1a-c7db-4f1f-e7d5-f45abeda4042"
      },
      "source": [
        "# First function is used to denoise text\n",
        "def denoise_text(text):\n",
        "    # Strip html if any. For ex. removing <html>, <p> tags\n",
        "    soup = BeautifulSoup(text, \"html.parser\")\n",
        "    text = soup.get_text()\n",
        "    # Replace contractions in the text. For ex. didn't -> did not\n",
        "    text = contractions.fix(text)\n",
        "    return text\n",
        "# Check the function \n",
        "sample_text = \"<p>he didn't say anything </br> about what's gonna <html> happen in the climax\"\n",
        "denoise_text(sample_text)"
      ],
      "execution_count": 11,
      "outputs": [
        {
          "output_type": "execute_result",
          "data": {
            "application/vnd.google.colaboratory.intrinsic+json": {
              "type": "string"
            },
            "text/plain": [
              "'he did not say anything  about what is going to  happen in the climax'"
            ]
          },
          "metadata": {
            "tags": []
          },
          "execution_count": 11
        }
      ]
    },
    {
      "cell_type": "code",
      "metadata": {
        "colab": {
          "base_uri": "https://localhost:8080/",
          "height": 36
        },
        "id": "HLypGAicc_Ua",
        "outputId": "254ceffe-6922-4258-eb0d-5eed0b40bd19"
      },
      "source": [
        "import json\n",
        "abbreviations_path=\"/content/drive/MyDrive/FY_Project/abbreviations_wordlist.json\"\n",
        "def cont_exp(x):\n",
        "\tabbreviations = json.load(open(abbreviations_path))\n",
        "\n",
        "\tif type(x) is str:\n",
        "\t\tfor key in abbreviations:\n",
        "\t\t\tvalue = abbreviations[key]\n",
        "\t\t\traw_text = r'\\b' + key + r'\\b'\n",
        "\t\t\tx = re.sub(raw_text, value, x)\n",
        "\t\t\t# print(raw_text,value, x)\n",
        "\t\treturn x\n",
        "\telse:\n",
        "\t\treturn x\n",
        "\n",
        "cont_exp(\"project report complete asap. gn i am out lol\")"
      ],
      "execution_count": 13,
      "outputs": [
        {
          "output_type": "execute_result",
          "data": {
            "application/vnd.google.colaboratory.intrinsic+json": {
              "type": "string"
            },
            "text/plain": [
              "'project report complete as soon as possible. good night i am out laughing out loud'"
            ]
          },
          "metadata": {
            "tags": []
          },
          "execution_count": 13
        }
      ]
    },
    {
      "cell_type": "code",
      "metadata": {
        "id": "zw7sOi9MdEMV"
      },
      "source": [
        "# Text normalization includes many steps.\n",
        "# Each function below serves a step.\n",
        "\n",
        "# Gets rid of the non ASCII characters\n",
        "def remove_non_ascii(words):\n",
        "    new_words = []\n",
        "    for word in words:\n",
        "        new_word = unicodedata.normalize('NFKD', word).encode('ascii', 'ignore').decode('utf-8', 'ignore')\n",
        "        new_words.append(new_word)\n",
        "    return new_words\n",
        "\n",
        "# Converts the entire text to lowercase\n",
        "def to_lowercase(words):\n",
        "    new_words = []\n",
        "    for word in words:\n",
        "        new_word = word.lower()\n",
        "        new_words.append(new_word)\n",
        "    return new_words\n",
        "\n",
        "# Removes the punctuation marks\n",
        "def remove_punctuation(words):\n",
        "    new_words = []\n",
        "    for word in words:\n",
        "        new_word = re.sub(r'[^\\w\\s]', '', word)\n",
        "        if new_word != '':\n",
        "            new_words.append(new_word)\n",
        "    return new_words\n",
        "\n",
        "# Numbers to their textual representation\n",
        "def replace_numbers(words):\n",
        "    p = inflect.engine()\n",
        "    new_words = []\n",
        "    for word in words:\n",
        "        if word.isdigit():\n",
        "            new_word = p.number_to_words(word)\n",
        "            new_words.append(new_word)\n",
        "        else:\n",
        "            new_words.append(word)\n",
        "    return new_words\n",
        "\n",
        "# Removes stop words\n",
        "def remove_stopwords(words):\n",
        "    new_words = []\n",
        "    all_stopwords = stopwords.words('english')\n",
        "    all_stopwords.remove('not')\n",
        "    for word in words:\n",
        "        if word not in all_stopwords:\n",
        "            new_words.append(word)\n",
        "    return new_words\n",
        "\n",
        "# Lemmatizes verbs in the list of tokenized words\n",
        "def lemmatize_verbs(words):\n",
        "    lemmatizer = WordNetLemmatizer()\n",
        "    lemmas = []\n",
        "    for word in words:\n",
        "        lemma = lemmatizer.lemmatize(word)\n",
        "        lemmas.append(lemma)\n",
        "    return lemmas\n",
        "\n",
        "#All above functions are put together\n",
        "def normalize_text(words):\n",
        "    words = remove_non_ascii(words)\n",
        "    words = to_lowercase(words)\n",
        "    words = remove_punctuation(words)\n",
        "    words = replace_numbers(words)\n",
        "    #words = remove_stopwords(words)\n",
        "    words = lemmatize_verbs(words)\n",
        "    return words"
      ],
      "execution_count": 14,
      "outputs": []
    },
    {
      "cell_type": "code",
      "metadata": {
        "colab": {
          "base_uri": "https://localhost:8080/"
        },
        "id": "0osoTGckdGzP",
        "outputId": "e491292c-5e6e-4074-f170-5b5a22b25fc7"
      },
      "source": [
        "# Downloading the necessary packages\n",
        "nltk.download('punkt')\n",
        "nltk.download('wordnet')\n",
        "nltk.download('stopwords')"
      ],
      "execution_count": 15,
      "outputs": [
        {
          "output_type": "stream",
          "text": [
            "[nltk_data] Downloading package punkt to /root/nltk_data...\n",
            "[nltk_data]   Unzipping tokenizers/punkt.zip.\n",
            "[nltk_data] Downloading package wordnet to /root/nltk_data...\n",
            "[nltk_data]   Unzipping corpora/wordnet.zip.\n",
            "[nltk_data] Downloading package stopwords to /root/nltk_data...\n",
            "[nltk_data]   Unzipping corpora/stopwords.zip.\n"
          ],
          "name": "stdout"
        },
        {
          "output_type": "execute_result",
          "data": {
            "text/plain": [
              "True"
            ]
          },
          "metadata": {
            "tags": []
          },
          "execution_count": 15
        }
      ]
    },
    {
      "cell_type": "code",
      "metadata": {
        "colab": {
          "base_uri": "https://localhost:8080/"
        },
        "id": "jqSsB5IsdJxh",
        "outputId": "64b23f0d-1524-449f-fdf5-bf36cae7a9f8"
      },
      "source": [
        "# Tokenize tweet into words\n",
        "def tokenize(text):\n",
        "    return nltk.word_tokenize(text)\n",
        "\n",
        "#Text Preparation to use them into model\n",
        "def text_prepare(text):\n",
        "    text = denoise_text(text)\n",
        "    text = cont_exp(text)\n",
        "    text = ' '.join([x for x in normalize_text(tokenize(text))])\n",
        "    return text\n",
        "\n",
        "# check the function\n",
        "sample_text = 'he didn\\'t say anything!!!😊      about teachear    what is going to  happen #india. covid-19 patients are increasing expotentially?????? !!'\n",
        "\n",
        "print(\"tokenize results :\", tokenize(sample_text))\n",
        "print(\"tokenize results :\", text_prepare(sample_text))"
      ],
      "execution_count": 16,
      "outputs": [
        {
          "output_type": "stream",
          "text": [
            "tokenize results : ['he', 'did', \"n't\", 'say', 'anything', '!', '!', '!', '😊', 'about', 'teachear', 'what', 'is', 'going', 'to', 'happen', '#', 'india', '.', 'covid-19', 'patients', 'are', 'increasing', 'expotentially', '?', '?', '?', '?', '?', '?', '!', '!']\n",
            "tokenize results : he did not say anything about teachear what is going to happen india covid19 patient are increasing expotentially\n"
          ],
          "name": "stdout"
        }
      ]
    },
    {
      "cell_type": "code",
      "metadata": {
        "colab": {
          "base_uri": "https://localhost:8080/",
          "height": 199
        },
        "id": "l78jxjC_dOJp",
        "outputId": "bf04815a-66c2-44ff-e59b-767df1fb94ce"
      },
      "source": [
        "df['tweet'] = [text_prepare(x) for x in df['tweet']]\n",
        "\n",
        "#Sample dataset after text_prepare\n",
        "df.head()"
      ],
      "execution_count": 17,
      "outputs": [
        {
          "output_type": "execute_result",
          "data": {
            "text/html": [
              "<div>\n",
              "<style scoped>\n",
              "    .dataframe tbody tr th:only-of-type {\n",
              "        vertical-align: middle;\n",
              "    }\n",
              "\n",
              "    .dataframe tbody tr th {\n",
              "        vertical-align: top;\n",
              "    }\n",
              "\n",
              "    .dataframe thead th {\n",
              "        text-align: right;\n",
              "    }\n",
              "</style>\n",
              "<table border=\"1\" class=\"dataframe\">\n",
              "  <thead>\n",
              "    <tr style=\"text-align: right;\">\n",
              "      <th></th>\n",
              "      <th>id</th>\n",
              "      <th>tweet</th>\n",
              "      <th>subtask_c</th>\n",
              "    </tr>\n",
              "  </thead>\n",
              "  <tbody>\n",
              "    <tr>\n",
              "      <th>0</th>\n",
              "      <td>90194</td>\n",
              "      <td>user user go home you are drunk user maga trum...</td>\n",
              "      <td>1</td>\n",
              "    </tr>\n",
              "    <tr>\n",
              "      <th>1</th>\n",
              "      <td>97670</td>\n",
              "      <td>user liberal are all kookoo</td>\n",
              "      <td>0</td>\n",
              "    </tr>\n",
              "    <tr>\n",
              "      <th>2</th>\n",
              "      <td>52415</td>\n",
              "      <td>user wa literally just talking about this laug...</td>\n",
              "      <td>2</td>\n",
              "    </tr>\n",
              "    <tr>\n",
              "      <th>3</th>\n",
              "      <td>13384</td>\n",
              "      <td>user canada doe not need another cuck we alrea...</td>\n",
              "      <td>1</td>\n",
              "    </tr>\n",
              "    <tr>\n",
              "      <th>4</th>\n",
              "      <td>28414</td>\n",
              "      <td>user you are a lying corrupt traitor nobody wa...</td>\n",
              "      <td>1</td>\n",
              "    </tr>\n",
              "  </tbody>\n",
              "</table>\n",
              "</div>"
            ],
            "text/plain": [
              "      id                                              tweet  subtask_c\n",
              "0  90194  user user go home you are drunk user maga trum...          1\n",
              "1  97670                        user liberal are all kookoo          0\n",
              "2  52415  user wa literally just talking about this laug...          2\n",
              "3  13384  user canada doe not need another cuck we alrea...          1\n",
              "4  28414  user you are a lying corrupt traitor nobody wa...          1"
            ]
          },
          "metadata": {
            "tags": []
          },
          "execution_count": 17
        }
      ]
    },
    {
      "cell_type": "code",
      "metadata": {
        "id": "l9JHdpicdT9J"
      },
      "source": [
        "# getting distribution of different sequence length in dateset\n",
        "seqlen=df['tweet'].apply(lambda x:len(x.split()))"
      ],
      "execution_count": 18,
      "outputs": []
    },
    {
      "cell_type": "code",
      "metadata": {
        "colab": {
          "base_uri": "https://localhost:8080/",
          "height": 624
        },
        "id": "Fuq7y7WCdV23",
        "outputId": "5c5c7fed-e4c2-4cb7-d4c9-61fa22cb0151"
      },
      "source": [
        "#plotting the distribution of seq length \n",
        "import seaborn as sns\n",
        "import matplotlib.pyplot as plt\n",
        "sns.set_style('darkgrid')\n",
        "plt.figure(figsize=(16,10))\n",
        "sns.distplot(seqlen)"
      ],
      "execution_count": 19,
      "outputs": [
        {
          "output_type": "execute_result",
          "data": {
            "text/plain": [
              "<matplotlib.axes._subplots.AxesSubplot at 0x7f3ac3c0ae10>"
            ]
          },
          "metadata": {
            "tags": []
          },
          "execution_count": 19
        },
        {
          "output_type": "display_data",
          "data": {
            "image/png": "[encoded data removed]",
            "text/plain": [
              "<Figure size 1152x720 with 1 Axes>"
            ]
          },
          "metadata": {
            "tags": []
          }
        }
      ]
    },
    {
      "cell_type": "code",
      "metadata": {
        "id": "Gbf45h1pdZKT"
      },
      "source": [
        "from transformers import AutoTokenizer\n",
        "\n",
        "SEQ_LEN = 50  # we will cut/pad our sequences to a length of 50 tokens\n",
        "\n",
        "def tokenize(sentence):\n",
        "    tokens = tokenizer.encode_plus(sentence, max_length=SEQ_LEN,\n",
        "                                   truncation=True, padding='max_length',\n",
        "                                   add_special_tokens=True, return_attention_mask=True,\n",
        "                                   return_token_type_ids=False, return_tensors='tf')\n",
        "    return tokens['input_ids'], tokens['attention_mask']\n",
        "\n",
        "# initialize two arrays for input tensors\n",
        "Xids = np.zeros((len(df), SEQ_LEN))\n",
        "Xmask = np.zeros((len(df), SEQ_LEN))\n",
        "\n",
        "for i, sentence in enumerate(df['tweet']):\n",
        "    Xids[i, :], Xmask[i, :] = tokenize(sentence)"
      ],
      "execution_count": 20,
      "outputs": []
    },
    {
      "cell_type": "code",
      "metadata": {
        "colab": {
          "base_uri": "https://localhost:8080/"
        },
        "id": "i4qzXnHddiGn",
        "outputId": "0e8ebb71-c480-475c-caaa-e5a94f8abbe3"
      },
      "source": [
        "Xids,Xmask"
      ],
      "execution_count": 21,
      "outputs": [
        {
          "output_type": "execute_result",
          "data": {
            "text/plain": [
              "(array([[  101.,  5310.,  5310., ...,     0.,     0.,     0.],\n",
              "        [  101.,  5310.,  4314., ...,     0.,     0.,     0.],\n",
              "        [  101.,  5310., 11333., ...,     0.,     0.,     0.],\n",
              "        ...,\n",
              "        [  101.,  5310.,  5310., ...,     0.,     0.,     0.],\n",
              "        [  101.,  5310.,  2823., ...,     0.,     0.,     0.],\n",
              "        [  101.,  5310.,  1998., ...,     0.,     0.,     0.]]),\n",
              " array([[1., 1., 1., ..., 0., 0., 0.],\n",
              "        [1., 1., 1., ..., 0., 0., 0.],\n",
              "        [1., 1., 1., ..., 0., 0., 0.],\n",
              "        ...,\n",
              "        [1., 1., 1., ..., 0., 0., 0.],\n",
              "        [1., 1., 1., ..., 0., 0., 0.],\n",
              "        [1., 1., 1., ..., 0., 0., 0.]]))"
            ]
          },
          "metadata": {
            "tags": []
          },
          "execution_count": 21
        }
      ]
    },
    {
      "cell_type": "code",
      "metadata": {
        "colab": {
          "base_uri": "https://localhost:8080/"
        },
        "id": "KyDMoPG_ejUM",
        "outputId": "fb0e246b-4b84-4eed-89c5-94f8cc9554cc"
      },
      "source": [
        "from keras.utils import to_categorical\n",
        "labels=to_categorical(df['subtask_c'])\n",
        "labels"
      ],
      "execution_count": 22,
      "outputs": [
        {
          "output_type": "execute_result",
          "data": {
            "text/plain": [
              "array([[0., 1., 0.],\n",
              "       [1., 0., 0.],\n",
              "       [0., 0., 1.],\n",
              "       ...,\n",
              "       [0., 0., 1.],\n",
              "       [0., 1., 0.],\n",
              "       [1., 0., 0.]], dtype=float32)"
            ]
          },
          "metadata": {
            "tags": []
          },
          "execution_count": 22
        }
      ]
    },
    {
      "cell_type": "code",
      "metadata": {
        "id": "XgGJCmqepnCM",
        "colab": {
          "base_uri": "https://localhost:8080/"
        },
        "outputId": "480e83de-46da-4e38-8f1e-87af988e1227"
      },
      "source": [
        "import tensorflow as tf\n",
        "\n",
        "BATCH_SIZE = 16  # we will use batches of 16\n",
        "\n",
        "# load arrays into tensorflow dataset\n",
        "dataset = tf.data.Dataset.from_tensor_slices((Xids, Xmask, labels))\n",
        "print(dataset)\n",
        "# create a mapping function that we use to restructure our dataset\n",
        "def map_func(input_ids, masks, labels):\n",
        "    return {'input_ids': input_ids, 'attention_mask': masks}, labels\n",
        "\n",
        "# using map method to apply map_func to dataset\n",
        "dataset = dataset.map(map_func)\n",
        "\n",
        "# shuffle data and batch it\n",
        "dataset = dataset.shuffle(1000).batch(BATCH_SIZE)\n",
        "dataset"
      ],
      "execution_count": 23,
      "outputs": [
        {
          "output_type": "stream",
          "text": [
            "<TensorSliceDataset shapes: ((50,), (50,), (3,)), types: (tf.float64, tf.float64, tf.float32)>\n"
          ],
          "name": "stdout"
        },
        {
          "output_type": "execute_result",
          "data": {
            "text/plain": [
              "<BatchDataset shapes: ({input_ids: (None, 50), attention_mask: (None, 50)}, (None, 3)), types: ({input_ids: tf.float64, attention_mask: tf.float64}, tf.float32)>"
            ]
          },
          "metadata": {
            "tags": []
          },
          "execution_count": 23
        }
      ]
    },
    {
      "cell_type": "code",
      "metadata": {
        "id": "hyJ3hqcZpoT0"
      },
      "source": [
        "# get the length of the batched dataset\n",
        "DS_LEN = len([0 for batch in dataset])\n",
        "SPLIT = 0.7  # 70-30 split\n",
        "\n",
        "train = dataset.take(round(DS_LEN*SPLIT))  # get first 70% of batches\n",
        "test = dataset.skip(round(DS_LEN*SPLIT))  # skip first 70% and keep final 30%\n",
        "\n",
        "del dataset  # optionally, delete dataset to free up disk-space"
      ],
      "execution_count": 24,
      "outputs": []
    },
    {
      "cell_type": "code",
      "metadata": {
        "id": "h2DnwNzapsEp",
        "colab": {
          "base_uri": "https://localhost:8080/"
        },
        "outputId": "278257a6-0def-4488-9ae1-20e6019faf3a"
      },
      "source": [
        "input_ids = tf.keras.layers.Input(shape=(SEQ_LEN,), name='input_ids', dtype='int32')\n",
        "mask = tf.keras.layers.Input(shape=(SEQ_LEN,), name='attention_mask', dtype='int32')\n",
        "\n",
        "# we consume the last_hidden_state tensor from bert (discarding pooled_outputs)\n",
        "embeddings = bert(input_ids, attention_mask=mask)[0]\n",
        "\n",
        "X = tf.keras.layers.LSTM(128)(embeddings)\n",
        "X = tf.keras.layers.Dropout(0.3)(X)\n",
        "X = tf.keras.layers.BatchNormalization()(X)\n",
        "X = tf.keras.layers.Dense(64, activation='relu')(X)\n",
        "X = tf.keras.layers.Dropout(0.2)(X)\n",
        "y = tf.keras.layers.Dense(3, activation='softmax', name='outputs')(X)\n",
        "\n",
        "# define input and output layers of our model\n",
        "model = tf.keras.Model(inputs=[input_ids, mask], outputs=y)\n",
        "\n",
        "# freeze the BERT layer - otherwise we will be training 100M+ parameters...\n",
        "model.layers[2].trainable = False\n",
        "model.summary()"
      ],
      "execution_count": 25,
      "outputs": [
        {
          "output_type": "stream",
          "text": [
            "Model: \"model\"\n",
            "__________________________________________________________________________________________________\n",
            "Layer (type)                    Output Shape         Param #     Connected to                     \n",
            "==================================================================================================\n",
            "input_ids (InputLayer)          [(None, 50)]         0                                            \n",
            "__________________________________________________________________________________________________\n",
            "attention_mask (InputLayer)     [(None, 50)]         0                                            \n",
            "__________________________________________________________________________________________________\n",
            "bert (TFBertMainLayer)          TFBaseModelOutputWit 109482240   input_ids[0][0]                  \n",
            "                                                                 attention_mask[0][0]             \n",
            "__________________________________________________________________________________________________\n",
            "lstm (LSTM)                     (None, 128)          459264      bert[0][0]                       \n",
            "__________________________________________________________________________________________________\n",
            "dropout_37 (Dropout)            (None, 128)          0           lstm[0][0]                       \n",
            "__________________________________________________________________________________________________\n",
            "batch_normalization (BatchNorma (None, 128)          512         dropout_37[0][0]                 \n",
            "__________________________________________________________________________________________________\n",
            "dense (Dense)                   (None, 64)           8256        batch_normalization[0][0]        \n",
            "__________________________________________________________________________________________________\n",
            "dropout_38 (Dropout)            (None, 64)           0           dense[0][0]                      \n",
            "__________________________________________________________________________________________________\n",
            "outputs (Dense)                 (None, 3)            195         dropout_38[0][0]                 \n",
            "==================================================================================================\n",
            "Total params: 109,950,467\n",
            "Trainable params: 467,971\n",
            "Non-trainable params: 109,482,496\n",
            "__________________________________________________________________________________________________\n"
          ],
          "name": "stdout"
        }
      ]
    },
    {
      "cell_type": "code",
      "metadata": {
        "colab": {
          "base_uri": "https://localhost:8080/",
          "height": 758
        },
        "id": "WZlJqZHPkx58",
        "outputId": "654c477a-cab1-4a7b-ff80-85bf521c637d"
      },
      "source": [
        "from tensorflow.keras.utils import plot_model\n",
        "plot_model(model,to_file='model.png')"
      ],
      "execution_count": 26,
      "outputs": [
        {
          "output_type": "execute_result",
          "data": {
            "image/png": "[encoded data removed]",
            "text/plain": [
              "<IPython.core.display.Image object>"
            ]
          },
          "metadata": {
            "tags": []
          },
          "execution_count": 26
        }
      ]
    },
    {
      "cell_type": "code",
      "metadata": {
        "id": "g_8k2vqEpzkM"
      },
      "source": [
        "optimizer = tf.keras.optimizers.Adam(5e-4)\n",
        "loss = tf.keras.losses.CategoricalCrossentropy()  # categorical = one-hot\n",
        "acc = tf.keras.metrics.CategoricalAccuracy('accuracy')\n",
        "\n",
        "model.compile(optimizer=optimizer, loss=loss, metrics=[acc])"
      ],
      "execution_count": 27,
      "outputs": []
    },
    {
      "cell_type": "code",
      "metadata": {
        "colab": {
          "base_uri": "https://localhost:8080/"
        },
        "id": "geqJnAHKlAZq",
        "outputId": "55208e81-b316-4f02-cb95-ee93ac127b29"
      },
      "source": [
        "history = model.fit(train,  epochs=10)"
      ],
      "execution_count": 28,
      "outputs": [
        {
          "output_type": "stream",
          "text": [
            "Epoch 1/10\n",
            "170/170 [==============================] - 51s 67ms/step - loss: 1.1793 - accuracy: 0.4933\n",
            "Epoch 2/10\n",
            "170/170 [==============================] - 11s 67ms/step - loss: 0.8549 - accuracy: 0.6538\n",
            "Epoch 3/10\n",
            "170/170 [==============================] - 12s 68ms/step - loss: 0.7729 - accuracy: 0.6741\n",
            "Epoch 4/10\n",
            "170/170 [==============================] - 12s 68ms/step - loss: 0.7545 - accuracy: 0.6935\n",
            "Epoch 5/10\n",
            "170/170 [==============================] - 12s 68ms/step - loss: 0.7355 - accuracy: 0.6884\n",
            "Epoch 6/10\n",
            "170/170 [==============================] - 12s 69ms/step - loss: 0.7217 - accuracy: 0.6921\n",
            "Epoch 7/10\n",
            "170/170 [==============================] - 12s 68ms/step - loss: 0.6720 - accuracy: 0.7393\n",
            "Epoch 8/10\n",
            "170/170 [==============================] - 11s 68ms/step - loss: 0.7032 - accuracy: 0.6960\n",
            "Epoch 9/10\n",
            "170/170 [==============================] - 11s 67ms/step - loss: 0.6791 - accuracy: 0.7227\n",
            "Epoch 10/10\n",
            "170/170 [==============================] - 11s 68ms/step - loss: 0.6509 - accuracy: 0.7410\n"
          ],
          "name": "stdout"
        }
      ]
    },
    {
      "cell_type": "code",
      "metadata": {
        "id": "Q3bJ4umzlDJU",
        "colab": {
          "base_uri": "https://localhost:8080/"
        },
        "outputId": "348a5c99-a980-4a4f-a704-522d6fe00b12"
      },
      "source": [
        "score = model.evaluate(test)"
      ],
      "execution_count": 29,
      "outputs": [
        {
          "output_type": "stream",
          "text": [
            "73/73 [==============================] - 7s 64ms/step - loss: 0.6525 - accuracy: 0.7344\n"
          ],
          "name": "stdout"
        }
      ]
    },
    {
      "cell_type": "code",
      "metadata": {
        "id": "ilQI4J4LqLsB",
        "colab": {
          "base_uri": "https://localhost:8080/"
        },
        "outputId": "9e10b367-822f-4c8d-dc52-d92c9173ec7a"
      },
      "source": [
        "# save the model\n",
        "model.save('/content/drive/MyDrive/FY_Project/Models/BERT_LSTM/levelC') "
      ],
      "execution_count": 31,
      "outputs": [
        {
          "output_type": "stream",
          "text": [
            "WARNING:absl:Found untraced functions such as embeddings_layer_call_fn, embeddings_layer_call_and_return_conditional_losses, encoder_layer_call_fn, encoder_layer_call_and_return_conditional_losses, pooler_layer_call_fn while saving (showing 5 of 1060). These functions will not be directly callable after loading.\n",
            "WARNING:absl:Found untraced functions such as embeddings_layer_call_fn, embeddings_layer_call_and_return_conditional_losses, encoder_layer_call_fn, encoder_layer_call_and_return_conditional_losses, pooler_layer_call_fn while saving (showing 5 of 1060). These functions will not be directly callable after loading.\n"
          ],
          "name": "stderr"
        },
        {
          "output_type": "stream",
          "text": [
            "INFO:tensorflow:Assets written to: /content/drive/MyDrive/FY_Project/Models/BERT_LSTM/levelC/assets\n"
          ],
          "name": "stdout"
        },
        {
          "output_type": "stream",
          "text": [
            "INFO:tensorflow:Assets written to: /content/drive/MyDrive/FY_Project/Models/BERT_LSTM/levelC/assets\n"
          ],
          "name": "stderr"
        }
      ]
    },
    {
      "cell_type": "code",
      "metadata": {
        "id": "1CF2IQ_blFWN",
        "colab": {
          "base_uri": "https://localhost:8080/",
          "height": 573
        },
        "outputId": "68bd4760-62eb-4285-d6e9-6a91ddd5a7df"
      },
      "source": [
        "import matplotlib.pyplot as plt\n",
        "\n",
        "# Plot training & validation accuracy values\n",
        "plt.plot(history.history['accuracy'])\n",
        "#plt.plot(history.history['val_accuracy'])\n",
        "plt.title('Modal accuracy')\n",
        "plt.ylabel('Accuracy')\n",
        "plt.xlabel('Epoch')\n",
        "plt.legend(['Train','Test'],loc='upper left')\n",
        "plt.show()\n",
        "\n",
        "# Plot training & validation loss values\n",
        "plt.plot(history.history['loss'])\n",
        "#plt.plot(history.history['val_loss'])\n",
        "plt.title('Modal loss')\n",
        "plt.ylabel('loss')\n",
        "plt.xlabel('Epoch')\n",
        "plt.legend(['Train','Test'],loc='upper left')\n",
        "plt.show()"
      ],
      "execution_count": 32,
      "outputs": [
        {
          "output_type": "display_data",
          "data": {
            "image/png": "[encoded data removed]",
            "text/plain": [
              "<Figure size 432x288 with 1 Axes>"
            ]
          },
          "metadata": {
            "tags": []
          }
        },
        {
          "output_type": "display_data",
          "data": {
            "image/png": "[encoded data removed]",
            "text/plain": [
              "<Figure size 432x288 with 1 Axes>"
            ]
          },
          "metadata": {
            "tags": []
          }
        }
      ]
    },
    {
      "cell_type": "code",
      "metadata": {
        "id": "phTk6ywAlIFN"
      },
      "source": [
        "y_pred=[]\n",
        "y_test=[]\n",
        "for element in test:\n",
        "  pred=model(element[0])\n",
        "  y_pred.extend(np.argmax(pred, axis = 1))\n",
        "  y_test.extend(np.argmax(element[1],axis=1))"
      ],
      "execution_count": 33,
      "outputs": []
    },
    {
      "cell_type": "code",
      "metadata": {
        "id": "Oj1NDWD8lK2w",
        "colab": {
          "base_uri": "https://localhost:8080/"
        },
        "outputId": "41cc09d4-e0d2-4c14-8806-257cf6fa5ffd"
      },
      "source": [
        "len(y_pred),len(y_test)"
      ],
      "execution_count": 34,
      "outputs": [
        {
          "output_type": "execute_result",
          "data": {
            "text/plain": [
              "(1156, 1156)"
            ]
          },
          "metadata": {
            "tags": []
          },
          "execution_count": 34
        }
      ]
    },
    {
      "cell_type": "code",
      "metadata": {
        "id": "Mup1LwXUlNOH",
        "colab": {
          "base_uri": "https://localhost:8080/"
        },
        "outputId": "447a0231-78a2-4cfd-ab82-79984459da03"
      },
      "source": [
        "from sklearn.metrics import accuracy_score\n",
        "accuracy_score(y_test,y_pred)"
      ],
      "execution_count": 35,
      "outputs": [
        {
          "output_type": "execute_result",
          "data": {
            "text/plain": [
              "0.745674740484429"
            ]
          },
          "metadata": {
            "tags": []
          },
          "execution_count": 35
        }
      ]
    },
    {
      "cell_type": "code",
      "metadata": {
        "id": "F0wDXJW9lQKA",
        "colab": {
          "base_uri": "https://localhost:8080/",
          "height": 426
        },
        "outputId": "f69ac677-7c9b-4235-93a7-591436478364"
      },
      "source": [
        "from mlxtend.plotting import plot_confusion_matrix\n",
        "from sklearn.metrics import confusion_matrix\n",
        "import matplotlib\n",
        "\n",
        "class_names=['OTH','IND','GRP']\n",
        "font={\n",
        "    'family':'Times New Roman',\n",
        "    'size':12\n",
        "}\n",
        "matplotlib.rc('font',**font)\n",
        "mat=confusion_matrix(y_test, y_pred)\n",
        "fig, ax = plot_confusion_matrix(conf_mat=mat,figsize=(8,6),show_normed=True,colorbar=True,class_names=class_names)\n",
        "plt.show()"
      ],
      "execution_count": 36,
      "outputs": [
        {
          "output_type": "stream",
          "text": [
            "WARNING:matplotlib.font_manager:findfont: Font family ['Times New Roman'] not found. Falling back to DejaVu Sans.\n"
          ],
          "name": "stderr"
        },
        {
          "output_type": "display_data",
          "data": {
            "image/png": "[encoded data removed]",
            "text/plain": [
              "<Figure size 576x432 with 2 Axes>"
            ]
          },
          "metadata": {
            "tags": []
          }
        }
      ]
    },
    {
      "cell_type": "code",
      "metadata": {
        "id": "HW9s8IFLlTt1",
        "colab": {
          "base_uri": "https://localhost:8080/"
        },
        "outputId": "87783867-6fa1-48aa-ed0b-3c695bcc83d8"
      },
      "source": [
        "from sklearn.metrics import classification_report\n",
        "print(classification_report(y_test, y_pred, target_names=class_names))"
      ],
      "execution_count": 37,
      "outputs": [
        {
          "output_type": "stream",
          "text": [
            "              precision    recall  f1-score   support\n",
            "\n",
            "         OTH       0.62      0.15      0.24       101\n",
            "         IND       0.79      0.89      0.84       739\n",
            "         GRP       0.63      0.61      0.62       316\n",
            "\n",
            "    accuracy                           0.75      1156\n",
            "   macro avg       0.68      0.55      0.56      1156\n",
            "weighted avg       0.73      0.75      0.72      1156\n",
            "\n"
          ],
          "name": "stdout"
        }
      ]
    }
  ]
}